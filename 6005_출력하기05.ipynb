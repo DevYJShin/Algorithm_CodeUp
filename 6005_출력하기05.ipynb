{
  "nbformat": 4,
  "nbformat_minor": 0,
  "metadata": {
    "colab": {
      "name": "6005_출력하기05.ipynb",
      "provenance": [],
      "authorship_tag": "ABX9TyM57AmVFFMWlbPRCQEQmM2O",
      "include_colab_link": true
    },
    "kernelspec": {
      "name": "python3",
      "display_name": "Python 3"
    },
    "language_info": {
      "name": "python"
    }
  },
  "cells": [
    {
      "cell_type": "markdown",
      "metadata": {
        "id": "view-in-github",
        "colab_type": "text"
      },
      "source": [
        "<a href=\"https://colab.research.google.com/github/DevYJShin/Algorithm_CodeUp/blob/main/6005_%EC%B6%9C%EB%A0%A5%ED%95%98%EA%B8%B005.ipynb\" target=\"_parent\"><img src=\"https://colab.research.google.com/assets/colab-badge.svg\" alt=\"Open In Colab\"/></a>"
      ]
    },
    {
      "cell_type": "code",
      "execution_count": 1,
      "metadata": {
        "colab": {
          "base_uri": "https://localhost:8080/"
        },
        "id": "yHmE-FcQI7V9",
        "outputId": "52779ef3-48fa-4647-fbc4-02c54c117620"
      },
      "outputs": [
        {
          "output_type": "stream",
          "name": "stdout",
          "text": [
            "\"Hello World\"\n"
          ]
        }
      ],
      "source": [
        "print(\"\\\"Hello World\\\"\")"
      ]
    }
  ]
}