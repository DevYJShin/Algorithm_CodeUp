{
  "nbformat": 4,
  "nbformat_minor": 0,
  "metadata": {
    "colab": {
      "name": "6006_출력하기06.ipynb",
      "provenance": [],
      "authorship_tag": "ABX9TyN3ylcazNEdAdDwH/LN8JTc",
      "include_colab_link": true
    },
    "kernelspec": {
      "name": "python3",
      "display_name": "Python 3"
    },
    "language_info": {
      "name": "python"
    }
  },
  "cells": [
    {
      "cell_type": "markdown",
      "metadata": {
        "id": "view-in-github",
        "colab_type": "text"
      },
      "source": [
        "<a href=\"https://colab.research.google.com/github/DevYJShin/Algorithm_CodeUp/blob/main/6006_%EC%B6%9C%EB%A0%A5%ED%95%98%EA%B8%B006.ipynb\" target=\"_parent\"><img src=\"https://colab.research.google.com/assets/colab-badge.svg\" alt=\"Open In Colab\"/></a>"
      ]
    },
    {
      "cell_type": "code",
      "execution_count": 1,
      "metadata": {
        "colab": {
          "base_uri": "https://localhost:8080/"
        },
        "id": "3pTv5g-OJQp1",
        "outputId": "e9f733ea-880b-4d78-c449-9ffadf79ec74"
      },
      "outputs": [
        {
          "output_type": "stream",
          "name": "stdout",
          "text": [
            "\"!@#$%^&*()'\n"
          ]
        }
      ],
      "source": [
        "print(\"\\\"!@#$%^&*()\\'\")"
      ]
    }
  ]
}