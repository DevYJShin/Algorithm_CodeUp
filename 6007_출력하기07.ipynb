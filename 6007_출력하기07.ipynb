{
  "nbformat": 4,
  "nbformat_minor": 0,
  "metadata": {
    "colab": {
      "name": "6007_출력하기07.ipynb",
      "provenance": [],
      "authorship_tag": "ABX9TyMe2SkbiZfOEqYoUZhPls9A",
      "include_colab_link": true
    },
    "kernelspec": {
      "name": "python3",
      "display_name": "Python 3"
    },
    "language_info": {
      "name": "python"
    }
  },
  "cells": [
    {
      "cell_type": "markdown",
      "metadata": {
        "id": "view-in-github",
        "colab_type": "text"
      },
      "source": [
        "<a href=\"https://colab.research.google.com/github/DevYJShin/Algorithm_CodeUp/blob/main/6007_%EC%B6%9C%EB%A0%A5%ED%95%98%EA%B8%B007.ipynb\" target=\"_parent\"><img src=\"https://colab.research.google.com/assets/colab-badge.svg\" alt=\"Open In Colab\"/></a>"
      ]
    },
    {
      "cell_type": "code",
      "execution_count": 1,
      "metadata": {
        "colab": {
          "base_uri": "https://localhost:8080/"
        },
        "id": "qJNMZXIYJnkR",
        "outputId": "a04080d3-1d7d-4c80-fef0-b057d36723f6"
      },
      "outputs": [
        {
          "output_type": "stream",
          "name": "stdout",
          "text": [
            "\"C:\\Download\\'hello'.py\"\n"
          ]
        }
      ],
      "source": [
        "print(\"\\\"C:\\\\Download\\\\'hello\\'.py\\\"\")"
      ]
    }
  ]
}