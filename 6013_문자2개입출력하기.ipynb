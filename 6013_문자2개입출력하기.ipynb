{
  "nbformat": 4,
  "nbformat_minor": 0,
  "metadata": {
    "colab": {
      "name": "6013_문자2개입출력하기.ipynb",
      "provenance": [],
      "authorship_tag": "ABX9TyONCbJ2gliBShzBr0kBmASS",
      "include_colab_link": true
    },
    "kernelspec": {
      "name": "python3",
      "display_name": "Python 3"
    },
    "language_info": {
      "name": "python"
    }
  },
  "cells": [
    {
      "cell_type": "markdown",
      "metadata": {
        "id": "view-in-github",
        "colab_type": "text"
      },
      "source": [
        "<a href=\"https://colab.research.google.com/github/DevYJShin/Algorithm_CodeUp/blob/main/6013_%EB%AC%B8%EC%9E%902%EA%B0%9C%EC%9E%85%EC%B6%9C%EB%A0%A5%ED%95%98%EA%B8%B0.ipynb\" target=\"_parent\"><img src=\"https://colab.research.google.com/assets/colab-badge.svg\" alt=\"Open In Colab\"/></a>"
      ]
    },
    {
      "cell_type": "code",
      "execution_count": 1,
      "metadata": {
        "colab": {
          "base_uri": "https://localhost:8080/"
        },
        "id": "TIAcl-ssMN7D",
        "outputId": "70697897-c7d7-41c1-ff3b-5062abec2d81"
      },
      "outputs": [
        {
          "output_type": "stream",
          "name": "stdout",
          "text": [
            "a\n",
            "b\n",
            "b\n",
            "a\n"
          ]
        }
      ],
      "source": [
        "a = input()\n",
        "b = input()\n",
        "print(b)\n",
        "print(a)"
      ]
    }
  ]
}