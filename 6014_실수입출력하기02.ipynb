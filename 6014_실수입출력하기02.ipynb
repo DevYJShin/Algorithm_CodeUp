{
  "nbformat": 4,
  "nbformat_minor": 0,
  "metadata": {
    "colab": {
      "name": "6014_실수입출력하기02.ipynb",
      "provenance": [],
      "authorship_tag": "ABX9TyN1apm/h45iANTLOv39tDhZ",
      "include_colab_link": true
    },
    "kernelspec": {
      "name": "python3",
      "display_name": "Python 3"
    },
    "language_info": {
      "name": "python"
    }
  },
  "cells": [
    {
      "cell_type": "markdown",
      "metadata": {
        "id": "view-in-github",
        "colab_type": "text"
      },
      "source": [
        "<a href=\"https://colab.research.google.com/github/DevYJShin/Algorithm_CodeUp/blob/main/6014_%EC%8B%A4%EC%88%98%EC%9E%85%EC%B6%9C%EB%A0%A5%ED%95%98%EA%B8%B002.ipynb\" target=\"_parent\"><img src=\"https://colab.research.google.com/assets/colab-badge.svg\" alt=\"Open In Colab\"/></a>"
      ]
    },
    {
      "cell_type": "code",
      "execution_count": null,
      "metadata": {
        "colab": {
          "base_uri": "https://localhost:8080/"
        },
        "id": "VliEwD_XMd02",
        "outputId": "e3823ca5-b4e5-4e7a-b298-48ba3191e9a1"
      },
      "outputs": [
        {
          "output_type": "stream",
          "name": "stdout",
          "text": [
            "0.1\n",
            "0.1\n",
            "0.1\n",
            "0.1\n"
          ]
        }
      ],
      "source": [
        "a = float(input())\n",
        "print(a)\n",
        "print(a)\n",
        "print(a)"
      ]
    }
  ]
}