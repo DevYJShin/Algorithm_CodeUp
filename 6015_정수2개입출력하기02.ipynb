{
  "nbformat": 4,
  "nbformat_minor": 0,
  "metadata": {
    "colab": {
      "name": "6015_정수2개입출력하기02.ipynb",
      "provenance": [],
      "authorship_tag": "ABX9TyPdNbb81ds5FkuzWmQPnDV9",
      "include_colab_link": true
    },
    "kernelspec": {
      "name": "python3",
      "display_name": "Python 3"
    },
    "language_info": {
      "name": "python"
    }
  },
  "cells": [
    {
      "cell_type": "markdown",
      "metadata": {
        "id": "view-in-github",
        "colab_type": "text"
      },
      "source": [
        "<a href=\"https://colab.research.google.com/github/DevYJShin/Algorithm_CodeUp/blob/main/6015_%EC%A0%95%EC%88%982%EA%B0%9C%EC%9E%85%EC%B6%9C%EB%A0%A5%ED%95%98%EA%B8%B002.ipynb\" target=\"_parent\"><img src=\"https://colab.research.google.com/assets/colab-badge.svg\" alt=\"Open In Colab\"/></a>"
      ]
    },
    {
      "cell_type": "code",
      "execution_count": 1,
      "metadata": {
        "colab": {
          "base_uri": "https://localhost:8080/"
        },
        "id": "_90V4qv6Mwl0",
        "outputId": "e2ab4d6a-9a2e-4eec-964a-b71c654d61f3"
      },
      "outputs": [
        {
          "output_type": "stream",
          "name": "stdout",
          "text": [
            "1 2\n",
            "1\n",
            "2\n"
          ]
        }
      ],
      "source": [
        "a, b = input().split()\n",
        "print(a)\n",
        "print(b)"
      ]
    }
  ]
}