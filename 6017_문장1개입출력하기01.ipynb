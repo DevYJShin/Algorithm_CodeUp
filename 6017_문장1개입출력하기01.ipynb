{
  "nbformat": 4,
  "nbformat_minor": 0,
  "metadata": {
    "colab": {
      "name": "6017_문장1개입출력하기01.ipynb",
      "provenance": [],
      "authorship_tag": "ABX9TyOlLHvG9Zc4P63jSMRp1KJk",
      "include_colab_link": true
    },
    "kernelspec": {
      "name": "python3",
      "display_name": "Python 3"
    },
    "language_info": {
      "name": "python"
    }
  },
  "cells": [
    {
      "cell_type": "markdown",
      "metadata": {
        "id": "view-in-github",
        "colab_type": "text"
      },
      "source": [
        "<a href=\"https://colab.research.google.com/github/DevYJShin/Algorithm_CodeUp/blob/main/6017_%EB%AC%B8%EC%9E%A51%EA%B0%9C%EC%9E%85%EC%B6%9C%EB%A0%A5%ED%95%98%EA%B8%B001.ipynb\" target=\"_parent\"><img src=\"https://colab.research.google.com/assets/colab-badge.svg\" alt=\"Open In Colab\"/></a>"
      ]
    },
    {
      "cell_type": "code",
      "execution_count": 1,
      "metadata": {
        "colab": {
          "base_uri": "https://localhost:8080/"
        },
        "id": "cVx1oyxGO3pI",
        "outputId": "7225a59f-98e6-43ba-ac56-1175c2ccf937"
      },
      "outputs": [
        {
          "output_type": "stream",
          "name": "stdout",
          "text": [
            "computer science\n",
            "computer science computer science computer science\n"
          ]
        }
      ],
      "source": [
        "a = input()\n",
        "print(a, a, a)"
      ]
    }
  ]
}