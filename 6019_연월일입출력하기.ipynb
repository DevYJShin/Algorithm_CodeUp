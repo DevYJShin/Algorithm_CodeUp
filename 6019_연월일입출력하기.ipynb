{
  "nbformat": 4,
  "nbformat_minor": 0,
  "metadata": {
    "colab": {
      "name": "6019_연월일입출력하기.ipynb",
      "provenance": [],
      "authorship_tag": "ABX9TyOX1qdE8cQw9d/qxpVZ5+xx",
      "include_colab_link": true
    },
    "kernelspec": {
      "name": "python3",
      "display_name": "Python 3"
    },
    "language_info": {
      "name": "python"
    }
  },
  "cells": [
    {
      "cell_type": "markdown",
      "metadata": {
        "id": "view-in-github",
        "colab_type": "text"
      },
      "source": [
        "<a href=\"https://colab.research.google.com/github/DevYJShin/Algorithm_CodeUp/blob/main/6019_%EC%97%B0%EC%9B%94%EC%9D%BC%EC%9E%85%EC%B6%9C%EB%A0%A5%ED%95%98%EA%B8%B0.ipynb\" target=\"_parent\"><img src=\"https://colab.research.google.com/assets/colab-badge.svg\" alt=\"Open In Colab\"/></a>"
      ]
    },
    {
      "cell_type": "code",
      "execution_count": 1,
      "metadata": {
        "colab": {
          "base_uri": "https://localhost:8080/"
        },
        "id": "aUm_BjBifZxh",
        "outputId": "9ff944d4-8604-4d2d-cd16-8055c2ca7004"
      },
      "outputs": [
        {
          "output_type": "stream",
          "name": "stdout",
          "text": [
            "2020.3.4\n",
            "4-3-2020\n"
          ]
        }
      ],
      "source": [
        "y, m, d = input().split('.')\n",
        "print(d, m, y, sep='-')"
      ]
    }
  ]
}