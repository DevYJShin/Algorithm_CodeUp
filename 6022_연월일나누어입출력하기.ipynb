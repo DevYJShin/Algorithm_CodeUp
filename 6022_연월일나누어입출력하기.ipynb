{
  "nbformat": 4,
  "nbformat_minor": 0,
  "metadata": {
    "colab": {
      "name": "6022_연월일나누어입출력하기.ipynb",
      "provenance": [],
      "authorship_tag": "ABX9TyPRhwlwuPq70xhEIGUmDyRR",
      "include_colab_link": true
    },
    "kernelspec": {
      "name": "python3",
      "display_name": "Python 3"
    },
    "language_info": {
      "name": "python"
    }
  },
  "cells": [
    {
      "cell_type": "markdown",
      "metadata": {
        "id": "view-in-github",
        "colab_type": "text"
      },
      "source": [
        "<a href=\"https://colab.research.google.com/github/DevYJShin/Algorithm_CodeUp/blob/main/6022_%EC%97%B0%EC%9B%94%EC%9D%BC%EB%82%98%EB%88%84%EC%96%B4%EC%9E%85%EC%B6%9C%EB%A0%A5%ED%95%98%EA%B8%B0.ipynb\" target=\"_parent\"><img src=\"https://colab.research.google.com/assets/colab-badge.svg\" alt=\"Open In Colab\"/></a>"
      ]
    },
    {
      "cell_type": "code",
      "execution_count": 1,
      "metadata": {
        "colab": {
          "base_uri": "https://localhost:8080/"
        },
        "id": "A58OB1lWgvPC",
        "outputId": "7cc9dfa7-52b8-4e8b-9a15-796d318a3632"
      },
      "outputs": [
        {
          "output_type": "stream",
          "name": "stdout",
          "text": [
            "200304\n",
            "20 03 04\n"
          ]
        }
      ],
      "source": [
        "a = input()\n",
        "print(a[0:2], a[2:4], a[4:6])"
      ]
    }
  ]
}