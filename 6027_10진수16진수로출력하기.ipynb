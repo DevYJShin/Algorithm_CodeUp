{
  "nbformat": 4,
  "nbformat_minor": 0,
  "metadata": {
    "colab": {
      "name": "6027_10진수16진수로출력하기.ipynb",
      "provenance": [],
      "authorship_tag": "ABX9TyOBdnOZQpfObkRN/uR9lXAR",
      "include_colab_link": true
    },
    "kernelspec": {
      "name": "python3",
      "display_name": "Python 3"
    },
    "language_info": {
      "name": "python"
    }
  },
  "cells": [
    {
      "cell_type": "markdown",
      "metadata": {
        "id": "view-in-github",
        "colab_type": "text"
      },
      "source": [
        "<a href=\"https://colab.research.google.com/github/DevYJShin/Algorithm_CodeUp/blob/main/6027_10%EC%A7%84%EC%88%9816%EC%A7%84%EC%88%98%EB%A1%9C%EC%B6%9C%EB%A0%A5%ED%95%98%EA%B8%B0.ipynb\" target=\"_parent\"><img src=\"https://colab.research.google.com/assets/colab-badge.svg\" alt=\"Open In Colab\"/></a>"
      ]
    },
    {
      "cell_type": "code",
      "execution_count": null,
      "metadata": {
        "colab": {
          "base_uri": "https://localhost:8080/"
        },
        "id": "1uE9k43VjK11",
        "outputId": "90708234-e797-4f88-b30a-af7b9d5c6060"
      },
      "outputs": [
        {
          "output_type": "stream",
          "name": "stdout",
          "text": [
            "255\n",
            "ff\n"
          ]
        }
      ],
      "source": [
        "a = int(input())\n",
        "print(hex(a)[2:])"
      ]
    }
  ]
}