{
  "nbformat": 4,
  "nbformat_minor": 0,
  "metadata": {
    "colab": {
      "name": "6029_16진수8진수로출력하기.ipynb",
      "provenance": [],
      "authorship_tag": "ABX9TyNB683cOu1/+DqbnH+93+an",
      "include_colab_link": true
    },
    "kernelspec": {
      "name": "python3",
      "display_name": "Python 3"
    },
    "language_info": {
      "name": "python"
    }
  },
  "cells": [
    {
      "cell_type": "markdown",
      "metadata": {
        "id": "view-in-github",
        "colab_type": "text"
      },
      "source": [
        "<a href=\"https://colab.research.google.com/github/DevYJShin/Algorithm_CodeUp/blob/main/6029_16%EC%A7%84%EC%88%988%EC%A7%84%EC%88%98%EB%A1%9C%EC%B6%9C%EB%A0%A5%ED%95%98%EA%B8%B0.ipynb\" target=\"_parent\"><img src=\"https://colab.research.google.com/assets/colab-badge.svg\" alt=\"Open In Colab\"/></a>"
      ]
    },
    {
      "cell_type": "code",
      "execution_count": 1,
      "metadata": {
        "colab": {
          "base_uri": "https://localhost:8080/"
        },
        "id": "NGuApB-IjsTb",
        "outputId": "af0e9363-cf48-4c7c-94cf-dfa1560a4a67"
      },
      "outputs": [
        {
          "output_type": "stream",
          "name": "stdout",
          "text": [
            "f\n",
            "17\n"
          ]
        }
      ],
      "source": [
        "a = input()\n",
        "b = int(a, 16)\n",
        "print('%o' % b)"
      ]
    }
  ]
}