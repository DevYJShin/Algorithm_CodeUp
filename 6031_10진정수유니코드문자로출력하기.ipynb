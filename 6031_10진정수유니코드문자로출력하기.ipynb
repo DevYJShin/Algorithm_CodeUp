{
  "nbformat": 4,
  "nbformat_minor": 0,
  "metadata": {
    "colab": {
      "name": "6031_10진정수유니코드문자로출력하기.ipynb",
      "provenance": [],
      "authorship_tag": "ABX9TyPLsgFYqq8xqZqCZGyKkgdb",
      "include_colab_link": true
    },
    "kernelspec": {
      "name": "python3",
      "display_name": "Python 3"
    },
    "language_info": {
      "name": "python"
    }
  },
  "cells": [
    {
      "cell_type": "markdown",
      "metadata": {
        "id": "view-in-github",
        "colab_type": "text"
      },
      "source": [
        "<a href=\"https://colab.research.google.com/github/DevYJShin/Algorithm_CodeUp/blob/main/6031_10%EC%A7%84%EC%A0%95%EC%88%98%EC%9C%A0%EB%8B%88%EC%BD%94%EB%93%9C%EB%AC%B8%EC%9E%90%EB%A1%9C%EC%B6%9C%EB%A0%A5%ED%95%98%EA%B8%B0.ipynb\" target=\"_parent\"><img src=\"https://colab.research.google.com/assets/colab-badge.svg\" alt=\"Open In Colab\"/></a>"
      ]
    },
    {
      "cell_type": "code",
      "execution_count": 1,
      "metadata": {
        "colab": {
          "base_uri": "https://localhost:8080/"
        },
        "id": "L2EMfF0ulFU1",
        "outputId": "6fecb5a5-2443-4515-8b31-2e0f6cf44264"
      },
      "outputs": [
        {
          "output_type": "stream",
          "name": "stdout",
          "text": [
            "65\n",
            "A\n"
          ]
        }
      ],
      "source": [
        "a = chr(int(input()))\n",
        "print(a)"
      ]
    }
  ]
}