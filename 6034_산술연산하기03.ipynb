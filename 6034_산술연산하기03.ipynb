{
  "nbformat": 4,
  "nbformat_minor": 0,
  "metadata": {
    "colab": {
      "name": "6034_산술연산하기03.ipynb",
      "provenance": [],
      "authorship_tag": "ABX9TyP8XrfTAFIuqinAiGdXn8RL",
      "include_colab_link": true
    },
    "kernelspec": {
      "name": "python3",
      "display_name": "Python 3"
    },
    "language_info": {
      "name": "python"
    }
  },
  "cells": [
    {
      "cell_type": "markdown",
      "metadata": {
        "id": "view-in-github",
        "colab_type": "text"
      },
      "source": [
        "<a href=\"https://colab.research.google.com/github/DevYJShin/Algorithm_CodeUp/blob/main/6034_%EC%82%B0%EC%88%A0%EC%97%B0%EC%82%B0%ED%95%98%EA%B8%B003.ipynb\" target=\"_parent\"><img src=\"https://colab.research.google.com/assets/colab-badge.svg\" alt=\"Open In Colab\"/></a>"
      ]
    },
    {
      "cell_type": "code",
      "execution_count": 1,
      "metadata": {
        "colab": {
          "base_uri": "https://localhost:8080/"
        },
        "id": "UfAs4XvSmGmI",
        "outputId": "d6f29960-0884-4d0a-f255-3338232e7662"
      },
      "outputs": [
        {
          "output_type": "stream",
          "name": "stdout",
          "text": [
            "123 -123\n",
            "246\n"
          ]
        }
      ],
      "source": [
        "a, b = input().split()\n",
        "c = int(a) - int(b)\n",
        "print(c)"
      ]
    }
  ]
}