{
  "nbformat": 4,
  "nbformat_minor": 0,
  "metadata": {
    "colab": {
      "name": "6036_산술연산하기05.ipynb",
      "provenance": [],
      "authorship_tag": "ABX9TyPsFAxmHRX3txyRd1wrweAQ",
      "include_colab_link": true
    },
    "kernelspec": {
      "name": "python3",
      "display_name": "Python 3"
    },
    "language_info": {
      "name": "python"
    }
  },
  "cells": [
    {
      "cell_type": "markdown",
      "metadata": {
        "id": "view-in-github",
        "colab_type": "text"
      },
      "source": [
        "<a href=\"https://colab.research.google.com/github/DevYJShin/Algorithm_CodeUp/blob/main/6036_%EC%82%B0%EC%88%A0%EC%97%B0%EC%82%B0%ED%95%98%EA%B8%B005.ipynb\" target=\"_parent\"><img src=\"https://colab.research.google.com/assets/colab-badge.svg\" alt=\"Open In Colab\"/></a>"
      ]
    },
    {
      "cell_type": "code",
      "execution_count": 1,
      "metadata": {
        "colab": {
          "base_uri": "https://localhost:8080/"
        },
        "id": "V69FtN1Cm3SA",
        "outputId": "6de93206-f633-45a9-bdfb-f1fbc97a0f8c"
      },
      "outputs": [
        {
          "output_type": "stream",
          "name": "stdout",
          "text": [
            "love 3\n",
            "lovelovelove\n"
          ]
        }
      ],
      "source": [
        "a, b = input().split()\n",
        "print(a*int(b))"
      ]
    }
  ]
}