{
  "nbformat": 4,
  "nbformat_minor": 0,
  "metadata": {
    "colab": {
      "name": "6037_산술연산하기06.ipynb",
      "provenance": [],
      "authorship_tag": "ABX9TyOQijUdMJ52griqBwMnwMfw",
      "include_colab_link": true
    },
    "kernelspec": {
      "name": "python3",
      "display_name": "Python 3"
    },
    "language_info": {
      "name": "python"
    }
  },
  "cells": [
    {
      "cell_type": "markdown",
      "metadata": {
        "id": "view-in-github",
        "colab_type": "text"
      },
      "source": [
        "<a href=\"https://colab.research.google.com/github/DevYJShin/Algorithm_CodeUp/blob/main/6037_%EC%82%B0%EC%88%A0%EC%97%B0%EC%82%B0%ED%95%98%EA%B8%B006.ipynb\" target=\"_parent\"><img src=\"https://colab.research.google.com/assets/colab-badge.svg\" alt=\"Open In Colab\"/></a>"
      ]
    },
    {
      "cell_type": "code",
      "execution_count": 3,
      "metadata": {
        "colab": {
          "base_uri": "https://localhost:8080/"
        },
        "id": "l9QBQulboFFL",
        "outputId": "c854e470-0c63-44f2-ad22-ba63bdf75854"
      },
      "outputs": [
        {
          "output_type": "stream",
          "name": "stdout",
          "text": [
            "3\n",
            "I love CS\n",
            "I love CSI love CSI love CS\n"
          ]
        }
      ],
      "source": [
        "a = input()\n",
        "b = input()\n",
        "print(int(a)*b)"
      ]
    }
  ]
}