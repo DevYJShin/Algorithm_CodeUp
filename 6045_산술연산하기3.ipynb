{
  "nbformat": 4,
  "nbformat_minor": 0,
  "metadata": {
    "colab": {
      "name": "6045_산술연산하기3.ipynb",
      "provenance": [],
      "authorship_tag": "ABX9TyMYNrAqGwLKoumISmTWReoh",
      "include_colab_link": true
    },
    "kernelspec": {
      "name": "python3",
      "display_name": "Python 3"
    },
    "language_info": {
      "name": "python"
    }
  },
  "cells": [
    {
      "cell_type": "markdown",
      "metadata": {
        "id": "view-in-github",
        "colab_type": "text"
      },
      "source": [
        "<a href=\"https://colab.research.google.com/github/DevYJShin/Algorithm_CodeUp/blob/main/6045_%EC%82%B0%EC%88%A0%EC%97%B0%EC%82%B0%ED%95%98%EA%B8%B03.ipynb\" target=\"_parent\"><img src=\"https://colab.research.google.com/assets/colab-badge.svg\" alt=\"Open In Colab\"/></a>"
      ]
    },
    {
      "cell_type": "code",
      "execution_count": 8,
      "metadata": {
        "colab": {
          "base_uri": "https://localhost:8080/"
        },
        "id": "rGq2wdxUSjLF",
        "outputId": "64c39ab6-a08b-49f3-b2d4-387f9e72d4b3"
      },
      "outputs": [
        {
          "output_type": "stream",
          "name": "stdout",
          "text": [
            "1 2 3\n",
            "6 2.00\n"
          ]
        }
      ],
      "source": [
        "a, b, c = map(int, input().split())  \n",
        "d = (a+b+c)/3\n",
        "print(a+b+c, format(d, \".2f\"))"
      ]
    }
  ]
}