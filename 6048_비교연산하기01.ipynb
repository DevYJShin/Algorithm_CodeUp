{
  "nbformat": 4,
  "nbformat_minor": 0,
  "metadata": {
    "colab": {
      "name": "6048_비교연산하기01.ipynb",
      "provenance": [],
      "authorship_tag": "ABX9TyNTzPPuxBEmYQkyL8hPhEBD",
      "include_colab_link": true
    },
    "kernelspec": {
      "name": "python3",
      "display_name": "Python 3"
    },
    "language_info": {
      "name": "python"
    }
  },
  "cells": [
    {
      "cell_type": "markdown",
      "metadata": {
        "id": "view-in-github",
        "colab_type": "text"
      },
      "source": [
        "<a href=\"https://colab.research.google.com/github/DevYJShin/Algorithm_CodeUp/blob/main/6048_%EB%B9%84%EA%B5%90%EC%97%B0%EC%82%B0%ED%95%98%EA%B8%B001.ipynb\" target=\"_parent\"><img src=\"https://colab.research.google.com/assets/colab-badge.svg\" alt=\"Open In Colab\"/></a>"
      ]
    },
    {
      "cell_type": "code",
      "execution_count": 2,
      "metadata": {
        "colab": {
          "base_uri": "https://localhost:8080/"
        },
        "id": "VwUF-Z1Zl9Ve",
        "outputId": "9ddbf2a0-4f0c-4b61-f476-3a957c77a204"
      },
      "outputs": [
        {
          "output_type": "stream",
          "name": "stdout",
          "text": [
            "1 9\n",
            "True\n"
          ]
        }
      ],
      "source": [
        "a, b = map(int, input().split())\n",
        "if a < b:\n",
        "  print(True)\n",
        "elif a >= b:\n",
        "  print(False)"
      ]
    }
  ]
}