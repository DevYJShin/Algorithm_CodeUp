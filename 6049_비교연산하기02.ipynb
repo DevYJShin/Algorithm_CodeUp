{
  "nbformat": 4,
  "nbformat_minor": 0,
  "metadata": {
    "colab": {
      "name": "6049_비교연산하기02.ipynb",
      "provenance": [],
      "authorship_tag": "ABX9TyNGq6b/hB/dLRdplf3lCMtz",
      "include_colab_link": true
    },
    "kernelspec": {
      "name": "python3",
      "display_name": "Python 3"
    },
    "language_info": {
      "name": "python"
    }
  },
  "cells": [
    {
      "cell_type": "markdown",
      "metadata": {
        "id": "view-in-github",
        "colab_type": "text"
      },
      "source": [
        "<a href=\"https://colab.research.google.com/github/DevYJShin/Algorithm_CodeUp/blob/main/6049_%EB%B9%84%EA%B5%90%EC%97%B0%EC%82%B0%ED%95%98%EA%B8%B002.ipynb\" target=\"_parent\"><img src=\"https://colab.research.google.com/assets/colab-badge.svg\" alt=\"Open In Colab\"/></a>"
      ]
    },
    {
      "cell_type": "code",
      "execution_count": 2,
      "metadata": {
        "colab": {
          "base_uri": "https://localhost:8080/"
        },
        "id": "lSi_ogpWnf1b",
        "outputId": "a1e12206-1cba-4f49-cd43-e405d82bba03"
      },
      "outputs": [
        {
          "output_type": "stream",
          "name": "stdout",
          "text": [
            "0 0\n",
            "True\n"
          ]
        }
      ],
      "source": [
        "a, b = map(int, input().split())\n",
        "if a == b :\n",
        "  print(True)\n",
        "elif a != b :\n",
        "  print(False)"
      ]
    }
  ]
}