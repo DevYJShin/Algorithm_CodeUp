{
  "nbformat": 4,
  "nbformat_minor": 0,
  "metadata": {
    "colab": {
      "name": "6050_비교연산하기03.ipynb",
      "provenance": [],
      "authorship_tag": "ABX9TyPbxRPqU7SyMhXIDtktK/UK",
      "include_colab_link": true
    },
    "kernelspec": {
      "name": "python3",
      "display_name": "Python 3"
    },
    "language_info": {
      "name": "python"
    }
  },
  "cells": [
    {
      "cell_type": "markdown",
      "metadata": {
        "id": "view-in-github",
        "colab_type": "text"
      },
      "source": [
        "<a href=\"https://colab.research.google.com/github/DevYJShin/Algorithm_CodeUp/blob/main/6050_%EB%B9%84%EA%B5%90%EC%97%B0%EC%82%B0%ED%95%98%EA%B8%B003.ipynb\" target=\"_parent\"><img src=\"https://colab.research.google.com/assets/colab-badge.svg\" alt=\"Open In Colab\"/></a>"
      ]
    },
    {
      "cell_type": "code",
      "execution_count": 1,
      "metadata": {
        "colab": {
          "base_uri": "https://localhost:8080/"
        },
        "id": "u6pQy4JqocvD",
        "outputId": "c42ee080-b79d-4b36-df31-e9752c8b2e0d"
      },
      "outputs": [
        {
          "output_type": "stream",
          "name": "stdout",
          "text": [
            "0 -1\n",
            "False\n"
          ]
        }
      ],
      "source": [
        "a , b  = map(int, input().split())\n",
        "if b >= a:\n",
        "  print(True)\n",
        "elif b != a:\n",
        "  print(False)"
      ]
    }
  ]
}