{
  "nbformat": 4,
  "nbformat_minor": 0,
  "metadata": {
    "colab": {
      "name": "6051_비교연산하기04.ipynb",
      "provenance": [],
      "authorship_tag": "ABX9TyNhNOXruCPAmHDVwbFwZpfy",
      "include_colab_link": true
    },
    "kernelspec": {
      "name": "python3",
      "display_name": "Python 3"
    },
    "language_info": {
      "name": "python"
    }
  },
  "cells": [
    {
      "cell_type": "markdown",
      "metadata": {
        "id": "view-in-github",
        "colab_type": "text"
      },
      "source": [
        "<a href=\"https://colab.research.google.com/github/DevYJShin/Algorithm_CodeUp/blob/main/6051_%EB%B9%84%EA%B5%90%EC%97%B0%EC%82%B0%ED%95%98%EA%B8%B004.ipynb\" target=\"_parent\"><img src=\"https://colab.research.google.com/assets/colab-badge.svg\" alt=\"Open In Colab\"/></a>"
      ]
    },
    {
      "cell_type": "code",
      "execution_count": 1,
      "metadata": {
        "colab": {
          "base_uri": "https://localhost:8080/"
        },
        "id": "Oy2VClp2pZOU",
        "outputId": "79cee2e8-6c06-4f84-f3b0-2b05fe2a2662"
      },
      "outputs": [
        {
          "output_type": "stream",
          "name": "stdout",
          "text": [
            "0 1\n",
            "True\n"
          ]
        }
      ],
      "source": [
        "a, b = map(int, input().split())\n",
        "if a != b:\n",
        "  print(True)\n",
        "elif a == b:\n",
        "  print(False)"
      ]
    }
  ]
}