{
  "nbformat": 4,
  "nbformat_minor": 0,
  "metadata": {
    "colab": {
      "name": "6056_논리연산하기05.ipynb",
      "provenance": [],
      "authorship_tag": "ABX9TyOHOzTT8AchG0KkJxAzogVa",
      "include_colab_link": true
    },
    "kernelspec": {
      "name": "python3",
      "display_name": "Python 3"
    },
    "language_info": {
      "name": "python"
    }
  },
  "cells": [
    {
      "cell_type": "markdown",
      "metadata": {
        "id": "view-in-github",
        "colab_type": "text"
      },
      "source": [
        "<a href=\"https://colab.research.google.com/github/DevYJShin/Algorithm_CodeUp/blob/main/6056_%EB%85%BC%EB%A6%AC%EC%97%B0%EC%82%B0%ED%95%98%EA%B8%B005.ipynb\" target=\"_parent\"><img src=\"https://colab.research.google.com/assets/colab-badge.svg\" alt=\"Open In Colab\"/></a>"
      ]
    },
    {
      "cell_type": "code",
      "execution_count": 4,
      "metadata": {
        "colab": {
          "base_uri": "https://localhost:8080/"
        },
        "id": "NrUuV_U_BczR",
        "outputId": "74c89d82-54f7-4305-dfdd-37e6c3d62010"
      },
      "outputs": [
        {
          "output_type": "stream",
          "name": "stdout",
          "text": [
            "1 1\n",
            "False\n"
          ]
        }
      ],
      "source": [
        "a, b = input().split()\n",
        "a = bool(int(a))\n",
        "b = bool(int(b))\n",
        "print(a and (not b) or (not a) and b)"
      ]
    }
  ]
}