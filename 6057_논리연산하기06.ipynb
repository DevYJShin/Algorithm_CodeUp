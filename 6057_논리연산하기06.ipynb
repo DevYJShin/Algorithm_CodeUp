{
  "nbformat": 4,
  "nbformat_minor": 0,
  "metadata": {
    "colab": {
      "name": "6057_논리연산하기06.ipynb",
      "provenance": [],
      "authorship_tag": "ABX9TyMr9oONhn7woV7OQW7mwEzz",
      "include_colab_link": true
    },
    "kernelspec": {
      "name": "python3",
      "display_name": "Python 3"
    },
    "language_info": {
      "name": "python"
    }
  },
  "cells": [
    {
      "cell_type": "markdown",
      "metadata": {
        "id": "view-in-github",
        "colab_type": "text"
      },
      "source": [
        "<a href=\"https://colab.research.google.com/github/DevYJShin/Algorithm_CodeUp/blob/main/6057_%EB%85%BC%EB%A6%AC%EC%97%B0%EC%82%B0%ED%95%98%EA%B8%B006.ipynb\" target=\"_parent\"><img src=\"https://colab.research.google.com/assets/colab-badge.svg\" alt=\"Open In Colab\"/></a>"
      ]
    },
    {
      "cell_type": "code",
      "execution_count": 4,
      "metadata": {
        "colab": {
          "base_uri": "https://localhost:8080/"
        },
        "id": "g-dLRj-CCnxe",
        "outputId": "65cc36b8-84ff-48d8-a0c7-cbcc907d1250"
      },
      "outputs": [
        {
          "output_type": "stream",
          "name": "stdout",
          "text": [
            "0 0\n",
            "True\n"
          ]
        }
      ],
      "source": [
        "a, b = input().split()\n",
        "a = bool(int(a))\n",
        "b = bool(int(b))\n",
        "print(not(a) and not(b) or a and b)"
      ]
    }
  ]
}