{
  "nbformat": 4,
  "nbformat_minor": 0,
  "metadata": {
    "colab": {
      "name": "6058_논리연산하기07.ipynb",
      "provenance": [],
      "authorship_tag": "ABX9TyNOfAAxZ+6n3+oLIJ8E5abg",
      "include_colab_link": true
    },
    "kernelspec": {
      "name": "python3",
      "display_name": "Python 3"
    },
    "language_info": {
      "name": "python"
    }
  },
  "cells": [
    {
      "cell_type": "markdown",
      "metadata": {
        "id": "view-in-github",
        "colab_type": "text"
      },
      "source": [
        "<a href=\"https://colab.research.google.com/github/DevYJShin/Algorithm_CodeUp/blob/main/6058_%EB%85%BC%EB%A6%AC%EC%97%B0%EC%82%B0%ED%95%98%EA%B8%B007.ipynb\" target=\"_parent\"><img src=\"https://colab.research.google.com/assets/colab-badge.svg\" alt=\"Open In Colab\"/></a>"
      ]
    },
    {
      "cell_type": "code",
      "execution_count": 2,
      "metadata": {
        "colab": {
          "base_uri": "https://localhost:8080/"
        },
        "id": "HdpPGdV_DIls",
        "outputId": "01213dff-2366-41bf-c8db-b213987ae058"
      },
      "outputs": [
        {
          "output_type": "stream",
          "name": "stdout",
          "text": [
            "0 0\n",
            "True\n"
          ]
        }
      ],
      "source": [
        "a, b = input().split()\n",
        "a = bool(int(a))\n",
        "b = bool(int(b))\n",
        "print((not a) and (not b))"
      ]
    }
  ]
}