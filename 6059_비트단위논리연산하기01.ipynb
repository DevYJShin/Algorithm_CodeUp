{
  "nbformat": 4,
  "nbformat_minor": 0,
  "metadata": {
    "colab": {
      "name": "6059_비트단위논리연산하기01.ipynb",
      "provenance": [],
      "authorship_tag": "ABX9TyN7JBpZskXERrAsQCDjXQ/Q",
      "include_colab_link": true
    },
    "kernelspec": {
      "name": "python3",
      "display_name": "Python 3"
    },
    "language_info": {
      "name": "python"
    }
  },
  "cells": [
    {
      "cell_type": "markdown",
      "metadata": {
        "id": "view-in-github",
        "colab_type": "text"
      },
      "source": [
        "<a href=\"https://colab.research.google.com/github/DevYJShin/Algorithm_CodeUp/blob/main/6059_%EB%B9%84%ED%8A%B8%EB%8B%A8%EC%9C%84%EB%85%BC%EB%A6%AC%EC%97%B0%EC%82%B0%ED%95%98%EA%B8%B001.ipynb\" target=\"_parent\"><img src=\"https://colab.research.google.com/assets/colab-badge.svg\" alt=\"Open In Colab\"/></a>"
      ]
    },
    {
      "cell_type": "code",
      "execution_count": 1,
      "metadata": {
        "colab": {
          "base_uri": "https://localhost:8080/"
        },
        "id": "Ver5VZfZGZGj",
        "outputId": "4354d769-0d6b-4b49-c32b-64dfac25abe7"
      },
      "outputs": [
        {
          "output_type": "stream",
          "name": "stdout",
          "text": [
            "2\n",
            "-3\n"
          ]
        }
      ],
      "source": [
        "a = ~int(input())\n",
        "print(a)"
      ]
    }
  ]
}