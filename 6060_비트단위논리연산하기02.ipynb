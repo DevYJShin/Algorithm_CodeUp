{
  "nbformat": 4,
  "nbformat_minor": 0,
  "metadata": {
    "colab": {
      "name": "6060_비트단위논리연산하기02.ipynb",
      "provenance": [],
      "authorship_tag": "ABX9TyMNazulV3iPXcmPDEU0vy0R",
      "include_colab_link": true
    },
    "kernelspec": {
      "name": "python3",
      "display_name": "Python 3"
    },
    "language_info": {
      "name": "python"
    }
  },
  "cells": [
    {
      "cell_type": "markdown",
      "metadata": {
        "id": "view-in-github",
        "colab_type": "text"
      },
      "source": [
        "<a href=\"https://colab.research.google.com/github/DevYJShin/Algorithm_CodeUp/blob/main/6060_%EB%B9%84%ED%8A%B8%EB%8B%A8%EC%9C%84%EB%85%BC%EB%A6%AC%EC%97%B0%EC%82%B0%ED%95%98%EA%B8%B002.ipynb\" target=\"_parent\"><img src=\"https://colab.research.google.com/assets/colab-badge.svg\" alt=\"Open In Colab\"/></a>"
      ]
    },
    {
      "cell_type": "code",
      "execution_count": 1,
      "metadata": {
        "colab": {
          "base_uri": "https://localhost:8080/"
        },
        "id": "zOGy1-pBHVEm",
        "outputId": "2f013d93-3054-4ef0-f7c4-3552634aff92"
      },
      "outputs": [
        {
          "output_type": "stream",
          "name": "stdout",
          "text": [
            "3 5\n",
            "1\n"
          ]
        }
      ],
      "source": [
        "a, b = map(int, input().split())\n",
        "print(a & b)"
      ]
    }
  ]
}