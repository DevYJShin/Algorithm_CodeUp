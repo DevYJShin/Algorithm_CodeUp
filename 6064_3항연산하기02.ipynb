{
  "nbformat": 4,
  "nbformat_minor": 0,
  "metadata": {
    "colab": {
      "name": "6064_3항연산하기02.ipynb",
      "provenance": [],
      "authorship_tag": "ABX9TyN8PldfZQ+o5Vsk2alLWrmY",
      "include_colab_link": true
    },
    "kernelspec": {
      "name": "python3",
      "display_name": "Python 3"
    },
    "language_info": {
      "name": "python"
    }
  },
  "cells": [
    {
      "cell_type": "markdown",
      "metadata": {
        "id": "view-in-github",
        "colab_type": "text"
      },
      "source": [
        "<a href=\"https://colab.research.google.com/github/DevYJShin/Algorithm_CodeUp/blob/main/6064_3%ED%95%AD%EC%97%B0%EC%82%B0%ED%95%98%EA%B8%B002.ipynb\" target=\"_parent\"><img src=\"https://colab.research.google.com/assets/colab-badge.svg\" alt=\"Open In Colab\"/></a>"
      ]
    },
    {
      "cell_type": "code",
      "execution_count": 2,
      "metadata": {
        "colab": {
          "base_uri": "https://localhost:8080/"
        },
        "id": "nmU_LEzTnoBK",
        "outputId": "8b69d301-7241-43ff-a7cb-fa8f835f5722"
      },
      "outputs": [
        {
          "output_type": "stream",
          "name": "stdout",
          "text": [
            "3 -1 5\n",
            "-1\n"
          ]
        }
      ],
      "source": [
        "a, b, c  = map(int, input().split())\n",
        "d = a < b and a or b\n",
        "print(d < c and d or c)"
      ]
    }
  ]
}