{
  "nbformat": 4,
  "nbformat_minor": 0,
  "metadata": {
    "colab": {
      "name": "6065_선택실행구조01.ipynb",
      "provenance": [],
      "authorship_tag": "ABX9TyO9hDYOIpoMvYMssHmMnRn8",
      "include_colab_link": true
    },
    "kernelspec": {
      "name": "python3",
      "display_name": "Python 3"
    },
    "language_info": {
      "name": "python"
    }
  },
  "cells": [
    {
      "cell_type": "markdown",
      "metadata": {
        "id": "view-in-github",
        "colab_type": "text"
      },
      "source": [
        "<a href=\"https://colab.research.google.com/github/DevYJShin/Algorithm_CodeUp/blob/main/6065_%EC%84%A0%ED%83%9D%EC%8B%A4%ED%96%89%EA%B5%AC%EC%A1%B001.ipynb\" target=\"_parent\"><img src=\"https://colab.research.google.com/assets/colab-badge.svg\" alt=\"Open In Colab\"/></a>"
      ]
    },
    {
      "cell_type": "code",
      "execution_count": 1,
      "metadata": {
        "colab": {
          "base_uri": "https://localhost:8080/"
        },
        "id": "3hWcgTF-2XTw",
        "outputId": "5ac87be2-78c3-4b44-dea7-25aeda5334df"
      },
      "outputs": [
        {
          "output_type": "stream",
          "name": "stdout",
          "text": [
            "1 2 4\n",
            "2\n",
            "4\n"
          ]
        }
      ],
      "source": [
        "a, b, c = map(int, input().split())\n",
        "if a % 2 == 0 :\n",
        "  print(a)\n",
        "if b % 2 == 0 :\n",
        "  print(b)\n",
        "if c % 2 == 0 :\n",
        "  print(c)"
      ]
    }
  ]
}