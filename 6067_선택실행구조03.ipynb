{
  "nbformat": 4,
  "nbformat_minor": 0,
  "metadata": {
    "colab": {
      "name": "6067_선택실행구조03.ipynb",
      "provenance": [],
      "authorship_tag": "ABX9TyO/y61sj7QHGOml0Woa9e3I",
      "include_colab_link": true
    },
    "kernelspec": {
      "name": "python3",
      "display_name": "Python 3"
    },
    "language_info": {
      "name": "python"
    }
  },
  "cells": [
    {
      "cell_type": "markdown",
      "metadata": {
        "id": "view-in-github",
        "colab_type": "text"
      },
      "source": [
        "<a href=\"https://colab.research.google.com/github/DevYJShin/Algorithm_CodeUp/blob/main/6067_%EC%84%A0%ED%83%9D%EC%8B%A4%ED%96%89%EA%B5%AC%EC%A1%B003.ipynb\" target=\"_parent\"><img src=\"https://colab.research.google.com/assets/colab-badge.svg\" alt=\"Open In Colab\"/></a>"
      ]
    },
    {
      "cell_type": "code",
      "execution_count": 1,
      "metadata": {
        "colab": {
          "base_uri": "https://localhost:8080/"
        },
        "id": "vbGXHs3999nq",
        "outputId": "572c3f16-32f5-4cf7-c5df-307933c64076"
      },
      "outputs": [
        {
          "output_type": "stream",
          "name": "stdout",
          "text": [
            "-2147483648\n",
            "A\n"
          ]
        }
      ],
      "source": [
        "a = int(input())\n",
        "\n",
        "if a < 0:\n",
        "  if(a % 2 == 0):\n",
        "    print('A')\n",
        "  else:\n",
        "    print('B')\n",
        "else:\n",
        "  if(a % 2 == 0):\n",
        "    print('C')\n",
        "  else:\n",
        "    print('D')"
      ]
    }
  ]
}