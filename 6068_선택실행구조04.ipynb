{
  "nbformat": 4,
  "nbformat_minor": 0,
  "metadata": {
    "colab": {
      "name": "6068_선택실행구조04.ipynb",
      "provenance": [],
      "authorship_tag": "ABX9TyO162BK9TlAtRPj+//4PQuC",
      "include_colab_link": true
    },
    "kernelspec": {
      "name": "python3",
      "display_name": "Python 3"
    },
    "language_info": {
      "name": "python"
    }
  },
  "cells": [
    {
      "cell_type": "markdown",
      "metadata": {
        "id": "view-in-github",
        "colab_type": "text"
      },
      "source": [
        "<a href=\"https://colab.research.google.com/github/DevYJShin/Algorithm_CodeUp/blob/main/6068_%EC%84%A0%ED%83%9D%EC%8B%A4%ED%96%89%EA%B5%AC%EC%A1%B004.ipynb\" target=\"_parent\"><img src=\"https://colab.research.google.com/assets/colab-badge.svg\" alt=\"Open In Colab\"/></a>"
      ]
    },
    {
      "cell_type": "code",
      "execution_count": 7,
      "metadata": {
        "colab": {
          "base_uri": "https://localhost:8080/"
        },
        "id": "zQtOKYvl-s33",
        "outputId": "a94250ef-192a-4357-babb-46708788a272"
      },
      "outputs": [
        {
          "output_type": "stream",
          "name": "stdout",
          "text": [
            "73\n",
            "B\n"
          ]
        }
      ],
      "source": [
        "a = int(input())\n",
        "\n",
        "if a >=90:\n",
        "  print('A')\n",
        "else:\n",
        "  if a>=70:\n",
        "    print('B')\n",
        "  else:\n",
        "    if a>=40:\n",
        "      print('C')\n",
        "    else:\n",
        "      print('D')"
      ]
    }
  ]
}