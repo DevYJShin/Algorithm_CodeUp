{
  "nbformat": 4,
  "nbformat_minor": 0,
  "metadata": {
    "colab": {
      "name": "6069_선택실행구조05.ipynb",
      "provenance": [],
      "authorship_tag": "ABX9TyN3S87EkG/DstywisAlGQMo",
      "include_colab_link": true
    },
    "kernelspec": {
      "name": "python3",
      "display_name": "Python 3"
    },
    "language_info": {
      "name": "python"
    }
  },
  "cells": [
    {
      "cell_type": "markdown",
      "metadata": {
        "id": "view-in-github",
        "colab_type": "text"
      },
      "source": [
        "<a href=\"https://colab.research.google.com/github/DevYJShin/Algorithm_CodeUp/blob/main/6069_%EC%84%A0%ED%83%9D%EC%8B%A4%ED%96%89%EA%B5%AC%EC%A1%B005.ipynb\" target=\"_parent\"><img src=\"https://colab.research.google.com/assets/colab-badge.svg\" alt=\"Open In Colab\"/></a>"
      ]
    },
    {
      "cell_type": "code",
      "execution_count": 1,
      "metadata": {
        "colab": {
          "base_uri": "https://localhost:8080/"
        },
        "id": "XBaXrFyAAabk",
        "outputId": "bf22eee2-642c-4c45-e031-e3cf1c7b84c6"
      },
      "outputs": [
        {
          "output_type": "stream",
          "name": "stdout",
          "text": [
            "A\n",
            "best!!!\n"
          ]
        }
      ],
      "source": [
        "a = input()\n",
        "if a == 'A':\n",
        "  print('best!!!')\n",
        "elif a == 'B':\n",
        "  print('good!!')\n",
        "elif a == 'C':\n",
        "  print('run!')\n",
        "elif a == 'D':\n",
        "  print('slowly~')\n",
        "else:\n",
        "  print('what?')"
      ]
    }
  ]
}