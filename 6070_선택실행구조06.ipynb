{
  "nbformat": 4,
  "nbformat_minor": 0,
  "metadata": {
    "colab": {
      "name": "6070_선택실행구조06.ipynb",
      "provenance": [],
      "authorship_tag": "ABX9TyPdaF+kDuhbzzxQB+WWy1ED",
      "include_colab_link": true
    },
    "kernelspec": {
      "name": "python3",
      "display_name": "Python 3"
    },
    "language_info": {
      "name": "python"
    }
  },
  "cells": [
    {
      "cell_type": "markdown",
      "metadata": {
        "id": "view-in-github",
        "colab_type": "text"
      },
      "source": [
        "<a href=\"https://colab.research.google.com/github/DevYJShin/Algorithm_CodeUp/blob/main/6070_%EC%84%A0%ED%83%9D%EC%8B%A4%ED%96%89%EA%B5%AC%EC%A1%B006.ipynb\" target=\"_parent\"><img src=\"https://colab.research.google.com/assets/colab-badge.svg\" alt=\"Open In Colab\"/></a>"
      ]
    },
    {
      "cell_type": "code",
      "execution_count": 3,
      "metadata": {
        "colab": {
          "base_uri": "https://localhost:8080/"
        },
        "id": "eNDYCpXkCWDR",
        "outputId": "b1248cd8-b5aa-497e-873c-92fce2a3271b"
      },
      "outputs": [
        {
          "output_type": "stream",
          "name": "stdout",
          "text": [
            "12\n",
            "winter\n"
          ]
        }
      ],
      "source": [
        "a = int(input())\n",
        "if a == 12 or a == 1 or a == 2:\n",
        "  print('winter')\n",
        "elif a == 3 or a == 4 or a == 5:\n",
        "  print('spring')\n",
        "elif a == 6 or a == 7 or a == 8:\n",
        "  print('summer')\n",
        "else:\n",
        "  print('fall')\n"
      ]
    }
  ]
}