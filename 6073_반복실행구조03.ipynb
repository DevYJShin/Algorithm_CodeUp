{
  "nbformat": 4,
  "nbformat_minor": 0,
  "metadata": {
    "colab": {
      "name": "6073_반복실행구조03.ipynb",
      "provenance": [],
      "authorship_tag": "ABX9TyOeRPF+Uwj/mOHLdh6j4d43",
      "include_colab_link": true
    },
    "kernelspec": {
      "name": "python3",
      "display_name": "Python 3"
    },
    "language_info": {
      "name": "python"
    }
  },
  "cells": [
    {
      "cell_type": "markdown",
      "metadata": {
        "id": "view-in-github",
        "colab_type": "text"
      },
      "source": [
        "<a href=\"https://colab.research.google.com/github/DevYJShin/Algorithm_CodeUp/blob/main/6073_%EB%B0%98%EB%B3%B5%EC%8B%A4%ED%96%89%EA%B5%AC%EC%A1%B003.ipynb\" target=\"_parent\"><img src=\"https://colab.research.google.com/assets/colab-badge.svg\" alt=\"Open In Colab\"/></a>"
      ]
    },
    {
      "cell_type": "code",
      "execution_count": 2,
      "metadata": {
        "colab": {
          "base_uri": "https://localhost:8080/"
        },
        "id": "F6l8DElFIoAy",
        "outputId": "2808acb7-6762-4b1b-c86c-0540d8ca8799"
      },
      "outputs": [
        {
          "output_type": "stream",
          "name": "stdout",
          "text": [
            "5\n",
            "4\n",
            "3\n",
            "2\n",
            "1\n",
            "0\n"
          ]
        }
      ],
      "source": [
        "a = int(input())\n",
        "\n",
        "while True:\n",
        "  a = a - 1\n",
        "  print(a)\n",
        "  if(a == 0):\n",
        "    break"
      ]
    }
  ]
}