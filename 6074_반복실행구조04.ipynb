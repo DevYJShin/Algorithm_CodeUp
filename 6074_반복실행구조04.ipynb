{
  "nbformat": 4,
  "nbformat_minor": 0,
  "metadata": {
    "colab": {
      "name": "6074_반복실행구조04.ipynb",
      "provenance": [],
      "authorship_tag": "ABX9TyOVhC0kNRr3Y5abcQnfiACG",
      "include_colab_link": true
    },
    "kernelspec": {
      "name": "python3",
      "display_name": "Python 3"
    },
    "language_info": {
      "name": "python"
    }
  },
  "cells": [
    {
      "cell_type": "markdown",
      "metadata": {
        "id": "view-in-github",
        "colab_type": "text"
      },
      "source": [
        "<a href=\"https://colab.research.google.com/github/DevYJShin/Algorithm_CodeUp/blob/main/6074_%EB%B0%98%EB%B3%B5%EC%8B%A4%ED%96%89%EA%B5%AC%EC%A1%B004.ipynb\" target=\"_parent\"><img src=\"https://colab.research.google.com/assets/colab-badge.svg\" alt=\"Open In Colab\"/></a>"
      ]
    },
    {
      "cell_type": "code",
      "execution_count": 1,
      "metadata": {
        "colab": {
          "base_uri": "https://localhost:8080/"
        },
        "id": "ER_hc3ksU2mX",
        "outputId": "d6b3a4d0-ac9c-4043-99f8-b14286871d61"
      },
      "outputs": [
        {
          "output_type": "stream",
          "name": "stdout",
          "text": [
            "f\n",
            "a b c d e f "
          ]
        }
      ],
      "source": [
        "a = ord(input())\n",
        "\n",
        "for i in range(97, a+1):\n",
        "  print(chr(i), end=' ')"
      ]
    }
  ]
}