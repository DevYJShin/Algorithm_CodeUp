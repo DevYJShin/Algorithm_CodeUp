{
  "nbformat": 4,
  "nbformat_minor": 0,
  "metadata": {
    "colab": {
      "name": "6077_짝수 합 구하기.ipynb",
      "provenance": [],
      "authorship_tag": "ABX9TyOhZ2M40YpAMxwXkwLyxQgM",
      "include_colab_link": true
    },
    "kernelspec": {
      "name": "python3",
      "display_name": "Python 3"
    },
    "language_info": {
      "name": "python"
    }
  },
  "cells": [
    {
      "cell_type": "markdown",
      "metadata": {
        "id": "view-in-github",
        "colab_type": "text"
      },
      "source": [
        "<a href=\"https://colab.research.google.com/github/DevYJShin/Algorithm_CodeUp/blob/main/6077_%EC%A7%9D%EC%88%98_%ED%95%A9_%EA%B5%AC%ED%95%98%EA%B8%B0.ipynb\" target=\"_parent\"><img src=\"https://colab.research.google.com/assets/colab-badge.svg\" alt=\"Open In Colab\"/></a>"
      ]
    },
    {
      "cell_type": "code",
      "execution_count": null,
      "metadata": {
        "id": "NFluX8DV-Jw2"
      },
      "outputs": [],
      "source": [
        "n = int(input())\n",
        "s = 0\n",
        "\n",
        "for i in range( 1, n + 1 ):\n",
        "  if i % 2 == 0:\n",
        "    s += i\n",
        "\n",
        "print(s)"
      ]
    }
  ]
}