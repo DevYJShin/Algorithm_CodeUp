{
  "nbformat": 4,
  "nbformat_minor": 0,
  "metadata": {
    "colab": {
      "name": "6078_원하는 문자가 입력될 때까지 반복 출력하기.ipynb",
      "provenance": [],
      "authorship_tag": "ABX9TyMLXE1oMch3uK8gmFVWdlIN",
      "include_colab_link": true
    },
    "kernelspec": {
      "name": "python3",
      "display_name": "Python 3"
    },
    "language_info": {
      "name": "python"
    }
  },
  "cells": [
    {
      "cell_type": "markdown",
      "metadata": {
        "id": "view-in-github",
        "colab_type": "text"
      },
      "source": [
        "<a href=\"https://colab.research.google.com/github/DevYJShin/Algorithm_CodeUp/blob/main/6078_%EC%9B%90%ED%95%98%EB%8A%94_%EB%AC%B8%EC%9E%90%EA%B0%80_%EC%9E%85%EB%A0%A5%EB%90%A0_%EB%95%8C%EA%B9%8C%EC%A7%80_%EB%B0%98%EB%B3%B5_%EC%B6%9C%EB%A0%A5%ED%95%98%EA%B8%B0.ipynb\" target=\"_parent\"><img src=\"https://colab.research.google.com/assets/colab-badge.svg\" alt=\"Open In Colab\"/></a>"
      ]
    },
    {
      "cell_type": "code",
      "execution_count": 1,
      "metadata": {
        "colab": {
          "base_uri": "https://localhost:8080/"
        },
        "id": "8YRvFLzK_Tln",
        "outputId": "8b5a9678-1aa9-4a28-906d-a5601829efd9"
      },
      "outputs": [
        {
          "output_type": "stream",
          "name": "stdout",
          "text": [
            "x\n",
            "x\n",
            "b\n",
            "b\n",
            "k\n",
            "k\n",
            "d\n",
            "d\n",
            "l\n",
            "l\n",
            "q\n",
            "q\n"
          ]
        }
      ],
      "source": [
        "while True:\n",
        "  a = input()\n",
        "  print(a)\n",
        "\n",
        "  if a == 'q':\n",
        "    break"
      ]
    }
  ]
}