{
  "nbformat": 4,
  "nbformat_minor": 0,
  "metadata": {
    "colab": {
      "name": "6079_언제까지 더해야 할까.ipynb",
      "provenance": [],
      "authorship_tag": "ABX9TyO1OKm2DRJlZm5Q/UShfFrQ",
      "include_colab_link": true
    },
    "kernelspec": {
      "name": "python3",
      "display_name": "Python 3"
    },
    "language_info": {
      "name": "python"
    }
  },
  "cells": [
    {
      "cell_type": "markdown",
      "metadata": {
        "id": "view-in-github",
        "colab_type": "text"
      },
      "source": [
        "<a href=\"https://colab.research.google.com/github/DevYJShin/Algorithm_CodeUp/blob/main/6079_%EC%96%B8%EC%A0%9C%EA%B9%8C%EC%A7%80_%EB%8D%94%ED%95%B4%EC%95%BC_%ED%95%A0%EA%B9%8C.ipynb\" target=\"_parent\"><img src=\"https://colab.research.google.com/assets/colab-badge.svg\" alt=\"Open In Colab\"/></a>"
      ]
    },
    {
      "cell_type": "code",
      "execution_count": 1,
      "metadata": {
        "colab": {
          "base_uri": "https://localhost:8080/"
        },
        "id": "sMlJExVoAVVY",
        "outputId": "a006cd5c-5f29-47c4-8da3-f5cb1aa5f431"
      },
      "outputs": [
        {
          "output_type": "stream",
          "name": "stdout",
          "text": [
            "55\n",
            "10\n"
          ]
        }
      ],
      "source": [
        "end_point = int(input())\n",
        "\n",
        "total = 0 \n",
        "\n",
        "for i in range(1, end_point+1):\n",
        "  total += i\n",
        "  if total >= end_point: \n",
        "    break\n",
        "print(i)"
      ]
    }
  ]
}