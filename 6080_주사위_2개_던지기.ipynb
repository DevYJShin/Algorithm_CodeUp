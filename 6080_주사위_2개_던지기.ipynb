{
  "nbformat": 4,
  "nbformat_minor": 0,
  "metadata": {
    "colab": {
      "name": "6080_주사위 2개 던지기.ipynb",
      "provenance": [],
      "authorship_tag": "ABX9TyO1VJJZPjgcs1PEK8J1MEEp",
      "include_colab_link": true
    },
    "kernelspec": {
      "name": "python3",
      "display_name": "Python 3"
    },
    "language_info": {
      "name": "python"
    }
  },
  "cells": [
    {
      "cell_type": "markdown",
      "metadata": {
        "id": "view-in-github",
        "colab_type": "text"
      },
      "source": [
        "<a href=\"https://colab.research.google.com/github/DevYJShin/Algorithm_CodeUp/blob/main/6080_%EC%A3%BC%EC%82%AC%EC%9C%84_2%EA%B0%9C_%EB%8D%98%EC%A7%80%EA%B8%B0.ipynb\" target=\"_parent\"><img src=\"https://colab.research.google.com/assets/colab-badge.svg\" alt=\"Open In Colab\"/></a>"
      ]
    },
    {
      "cell_type": "code",
      "execution_count": 3,
      "metadata": {
        "colab": {
          "base_uri": "https://localhost:8080/"
        },
        "id": "8GU_B8B5B7O6",
        "outputId": "e9da4a1f-c45f-4256-d323-fa7a9713af95"
      },
      "outputs": [
        {
          "output_type": "stream",
          "name": "stdout",
          "text": [
            "2 3\n",
            "1 1\n",
            "1 2\n",
            "1 3\n",
            "2 1\n",
            "2 2\n",
            "2 3\n"
          ]
        }
      ],
      "source": [
        "a, b = map(int, input().split())\n",
        "\n",
        "for a in range(1, a+1):\n",
        "  for b in range(1, b+1):\n",
        "    print(a, b)"
      ]
    },
    {
      "cell_type": "code",
      "source": [
        "array = [[(a, b) for b in range(1, b+1)] for a in range(1, a+1)] # list comprehension\n",
        "for arr in array:\n",
        "  for result in arr:\n",
        "    print(result)"
      ],
      "metadata": {
        "colab": {
          "base_uri": "https://localhost:8080/"
        },
        "id": "cNH4cu54Dup5",
        "outputId": "83cf328b-12e8-4623-dbfe-42d98c0f877e"
      },
      "execution_count": 4,
      "outputs": [
        {
          "output_type": "stream",
          "name": "stdout",
          "text": [
            "(1, 1)\n",
            "(1, 2)\n",
            "(1, 3)\n",
            "(2, 1)\n",
            "(2, 2)\n",
            "(2, 3)\n"
          ]
        }
      ]
    },
    {
      "cell_type": "code",
      "source": [
        "array = [[(a, b) for b in range(1, b+1)] for a in range(1, a+1)]\n",
        "for arr in array:\n",
        "  for result in arr:\n",
        "    print(*result) # 아스터리스크로 괄호 제거 가능"
      ],
      "metadata": {
        "colab": {
          "base_uri": "https://localhost:8080/"
        },
        "id": "I9cSxEEPENu0",
        "outputId": "bd86dcc5-b550-411f-8aca-2fd600b3280c"
      },
      "execution_count": 5,
      "outputs": [
        {
          "output_type": "stream",
          "name": "stdout",
          "text": [
            "1 1\n",
            "1 2\n",
            "1 3\n",
            "2 1\n",
            "2 2\n",
            "2 3\n"
          ]
        }
      ]
    }
  ]
}