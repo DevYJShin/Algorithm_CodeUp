{
  "nbformat": 4,
  "nbformat_minor": 0,
  "metadata": {
    "colab": {
      "name": "6082_369 게임의 왕이 되자.ipynb",
      "provenance": [],
      "authorship_tag": "ABX9TyOeW1Mh7VQjTzD8C2o4dOGO",
      "include_colab_link": true
    },
    "kernelspec": {
      "name": "python3",
      "display_name": "Python 3"
    },
    "language_info": {
      "name": "python"
    }
  },
  "cells": [
    {
      "cell_type": "markdown",
      "metadata": {
        "id": "view-in-github",
        "colab_type": "text"
      },
      "source": [
        "<a href=\"https://colab.research.google.com/github/DevYJShin/Algorithm_CodeUp/blob/main/6082_369_%EA%B2%8C%EC%9E%84%EC%9D%98_%EC%99%95%EC%9D%B4_%EB%90%98%EC%9E%90.ipynb\" target=\"_parent\"><img src=\"https://colab.research.google.com/assets/colab-badge.svg\" alt=\"Open In Colab\"/></a>"
      ]
    },
    {
      "cell_type": "code",
      "source": [
        "a = int(input())\n",
        "\n",
        "for i in range(1, a+1):\n",
        "  if (i % 10 == 3 or i % 10 == 6 or i % 10 == 9):\n",
        "    print('X', end= ' ')\n",
        "    continue\n",
        "  print(i, end= ' ')"
      ],
      "metadata": {
        "colab": {
          "base_uri": "https://localhost:8080/"
        },
        "id": "IjLmXMbyLv-w",
        "outputId": "c9657da8-3ab4-41f4-e030-ecad518e70e8"
      },
      "execution_count": 7,
      "outputs": [
        {
          "output_type": "stream",
          "name": "stdout",
          "text": [
            "9\n",
            "1 2 X 4 5 X 7 8 X "
          ]
        }
      ]
    }
  ]
}