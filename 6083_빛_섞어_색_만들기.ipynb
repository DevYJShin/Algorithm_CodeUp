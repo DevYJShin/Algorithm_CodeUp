{
  "nbformat": 4,
  "nbformat_minor": 0,
  "metadata": {
    "colab": {
      "name": "6083_빛 섞어 색 만들기.ipynb",
      "provenance": [],
      "authorship_tag": "ABX9TyOBt3Wz+aP2d+EVwHTdlPpk",
      "include_colab_link": true
    },
    "kernelspec": {
      "name": "python3",
      "display_name": "Python 3"
    },
    "language_info": {
      "name": "python"
    }
  },
  "cells": [
    {
      "cell_type": "markdown",
      "metadata": {
        "id": "view-in-github",
        "colab_type": "text"
      },
      "source": [
        "<a href=\"https://colab.research.google.com/github/DevYJShin/Algorithm_CodeUp/blob/main/6083_%EB%B9%9B_%EC%84%9E%EC%96%B4_%EC%83%89_%EB%A7%8C%EB%93%A4%EA%B8%B0.ipynb\" target=\"_parent\"><img src=\"https://colab.research.google.com/assets/colab-badge.svg\" alt=\"Open In Colab\"/></a>"
      ]
    },
    {
      "cell_type": "code",
      "execution_count": 4,
      "metadata": {
        "colab": {
          "base_uri": "https://localhost:8080/"
        },
        "id": "jmH32DEFBulV",
        "outputId": "71ac6af7-503b-4571-bc7f-0e49f15cb2d8"
      },
      "outputs": [
        {
          "output_type": "stream",
          "name": "stdout",
          "text": [
            "2 2 2\n",
            "0 0 0\n",
            "0 0 1\n",
            "0 1 0\n",
            "0 1 1\n",
            "1 0 0\n",
            "1 0 1\n",
            "1 1 0\n",
            "1 1 1\n",
            "8\n"
          ]
        }
      ],
      "source": [
        "r, g, b = input().split()\n",
        "\n",
        "r = int(r)\n",
        "g = int(g)\n",
        "b = int(b)\n",
        "\n",
        "for i in range(0, r):\n",
        "  for j in range(0, g):\n",
        "    for k in range(0, b):\n",
        "      print(i, j, k)\n",
        "\n",
        "print(r*g*b)"
      ]
    }
  ]
}