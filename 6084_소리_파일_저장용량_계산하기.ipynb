{
  "nbformat": 4,
  "nbformat_minor": 0,
  "metadata": {
    "colab": {
      "name": "6084_소리 파일 저장용량 계산하기.ipynb",
      "provenance": [],
      "authorship_tag": "ABX9TyPlgaNzMPyqEBmOLZB0HxaV",
      "include_colab_link": true
    },
    "kernelspec": {
      "name": "python3",
      "display_name": "Python 3"
    },
    "language_info": {
      "name": "python"
    }
  },
  "cells": [
    {
      "cell_type": "markdown",
      "metadata": {
        "id": "view-in-github",
        "colab_type": "text"
      },
      "source": [
        "<a href=\"https://colab.research.google.com/github/DevYJShin/Algorithm_CodeUp/blob/main/6084_%EC%86%8C%EB%A6%AC_%ED%8C%8C%EC%9D%BC_%EC%A0%80%EC%9E%A5%EC%9A%A9%EB%9F%89_%EA%B3%84%EC%82%B0%ED%95%98%EA%B8%B0.ipynb\" target=\"_parent\"><img src=\"https://colab.research.google.com/assets/colab-badge.svg\" alt=\"Open In Colab\"/></a>"
      ]
    },
    {
      "cell_type": "code",
      "execution_count": 1,
      "metadata": {
        "colab": {
          "base_uri": "https://localhost:8080/"
        },
        "id": "o_odScJVDKCQ",
        "outputId": "e81b8635-e69b-4b86-e9d5-047213da3a3b"
      },
      "outputs": [
        {
          "output_type": "stream",
          "name": "stdout",
          "text": [
            "44100 16 2 10\n",
            "1.7 MB\n"
          ]
        }
      ],
      "source": [
        "h, b, c, s = input().split()\n",
        "\n",
        "h = int(h)\n",
        "b = int(b)\n",
        "c = int(c)\n",
        "s = int(s)\n",
        "\n",
        "print(round(h*b*c*s/8/1024/1024, 1), \"MB\")"
      ]
    }
  ]
}