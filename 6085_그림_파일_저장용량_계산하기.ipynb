{
  "nbformat": 4,
  "nbformat_minor": 0,
  "metadata": {
    "colab": {
      "name": "6085_그림 파일 저장용량 계산하기.ipynb",
      "provenance": [],
      "authorship_tag": "ABX9TyMMWIk27d/4YCTp8KOwnoe5",
      "include_colab_link": true
    },
    "kernelspec": {
      "name": "python3",
      "display_name": "Python 3"
    },
    "language_info": {
      "name": "python"
    }
  },
  "cells": [
    {
      "cell_type": "markdown",
      "metadata": {
        "id": "view-in-github",
        "colab_type": "text"
      },
      "source": [
        "<a href=\"https://colab.research.google.com/github/DevYJShin/Algorithm_CodeUp/blob/main/6085_%EA%B7%B8%EB%A6%BC_%ED%8C%8C%EC%9D%BC_%EC%A0%80%EC%9E%A5%EC%9A%A9%EB%9F%89_%EA%B3%84%EC%82%B0%ED%95%98%EA%B8%B0.ipynb\" target=\"_parent\"><img src=\"https://colab.research.google.com/assets/colab-badge.svg\" alt=\"Open In Colab\"/></a>"
      ]
    },
    {
      "cell_type": "code",
      "execution_count": 2,
      "metadata": {
        "colab": {
          "base_uri": "https://localhost:8080/"
        },
        "id": "tvkQ9CHuEOiQ",
        "outputId": "8f67af9c-a0a3-4f11-deff-7b3ecf569ad8"
      },
      "outputs": [
        {
          "output_type": "stream",
          "name": "stdout",
          "text": [
            "1024 768 24\n",
            "2.25 MB\n"
          ]
        }
      ],
      "source": [
        "a, b, c = map(int, input().split())\n",
        "\n",
        "totalbit = a * b * c\n",
        "totalbyte = totalbit / 8\n",
        "totalkb = totalbyte / 1024\n",
        "totalmb = totalkb / 1024\n",
        "\n",
        "print(\"%0.2f MB\" % totalmb)"
      ]
    }
  ]
}