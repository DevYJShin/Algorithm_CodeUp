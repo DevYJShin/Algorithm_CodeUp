{
  "nbformat": 4,
  "nbformat_minor": 0,
  "metadata": {
    "colab": {
      "name": "6086_거기까지이제그만.ipynb",
      "provenance": [],
      "authorship_tag": "ABX9TyOgz1qgiYapXWUeeoydh4bO",
      "include_colab_link": true
    },
    "kernelspec": {
      "name": "python3",
      "display_name": "Python 3"
    },
    "language_info": {
      "name": "python"
    }
  },
  "cells": [
    {
      "cell_type": "markdown",
      "metadata": {
        "id": "view-in-github",
        "colab_type": "text"
      },
      "source": [
        "<a href=\"https://colab.research.google.com/github/DevYJShin/Algorithm_CodeUp/blob/main/6086_%EA%B1%B0%EA%B8%B0%EA%B9%8C%EC%A7%80%EC%9D%B4%EC%A0%9C%EA%B7%B8%EB%A7%8C.ipynb\" target=\"_parent\"><img src=\"https://colab.research.google.com/assets/colab-badge.svg\" alt=\"Open In Colab\"/></a>"
      ]
    },
    {
      "cell_type": "code",
      "execution_count": 1,
      "metadata": {
        "colab": {
          "base_uri": "https://localhost:8080/"
        },
        "id": "VsmfbaJIFfRu",
        "outputId": "d20b9263-bcf9-4772-970e-52761dcfa47e"
      },
      "outputs": [
        {
          "output_type": "stream",
          "name": "stdout",
          "text": [
            "57\n",
            "66\n"
          ]
        }
      ],
      "source": [
        "a = int(input())\n",
        "s = 0\n",
        "c = 0\n",
        "\n",
        "while True:\n",
        "  s = s + c\n",
        "  c = c + 1\n",
        "  if s >= a:\n",
        "    break\n",
        "\n",
        "print(s)"
      ]
    }
  ]
}