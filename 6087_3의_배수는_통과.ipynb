{
  "nbformat": 4,
  "nbformat_minor": 0,
  "metadata": {
    "colab": {
      "name": "6087_3의 배수는 통과.ipynb",
      "provenance": [],
      "authorship_tag": "ABX9TyNLpvVfFU4w0eP9rUlyqvMG",
      "include_colab_link": true
    },
    "kernelspec": {
      "name": "python3",
      "display_name": "Python 3"
    },
    "language_info": {
      "name": "python"
    }
  },
  "cells": [
    {
      "cell_type": "markdown",
      "metadata": {
        "id": "view-in-github",
        "colab_type": "text"
      },
      "source": [
        "<a href=\"https://colab.research.google.com/github/DevYJShin/Algorithm_CodeUp/blob/main/6087_3%EC%9D%98_%EB%B0%B0%EC%88%98%EB%8A%94_%ED%86%B5%EA%B3%BC.ipynb\" target=\"_parent\"><img src=\"https://colab.research.google.com/assets/colab-badge.svg\" alt=\"Open In Colab\"/></a>"
      ]
    },
    {
      "cell_type": "code",
      "execution_count": 2,
      "metadata": {
        "colab": {
          "base_uri": "https://localhost:8080/"
        },
        "id": "WYQR-5aYGYCn",
        "outputId": "2104dc31-49d1-4539-9c15-b53620739fdc"
      },
      "outputs": [
        {
          "output_type": "stream",
          "name": "stdout",
          "text": [
            "10 \n",
            "1 2 4 5 7 8 10 "
          ]
        }
      ],
      "source": [
        "a = int(input())\n",
        "\n",
        "for i in range(1, a+1):\n",
        "  if i % 3 == 0:\n",
        "    continue        # 다음 반복 단계로 넘어감\n",
        "  print(i, end=' ') # i가 짝수가 아닐 때만 실행"
      ]
    }
  ]
}