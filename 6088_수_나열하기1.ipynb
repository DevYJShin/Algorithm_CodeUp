{
  "nbformat": 4,
  "nbformat_minor": 0,
  "metadata": {
    "colab": {
      "name": "6088_수 나열하기1.ipynb",
      "provenance": [],
      "authorship_tag": "ABX9TyMmDYVtzznxehYZUQ9l2TVB",
      "include_colab_link": true
    },
    "kernelspec": {
      "name": "python3",
      "display_name": "Python 3"
    },
    "language_info": {
      "name": "python"
    }
  },
  "cells": [
    {
      "cell_type": "markdown",
      "metadata": {
        "id": "view-in-github",
        "colab_type": "text"
      },
      "source": [
        "<a href=\"https://colab.research.google.com/github/DevYJShin/Algorithm_CodeUp/blob/main/6088_%EC%88%98_%EB%82%98%EC%97%B4%ED%95%98%EA%B8%B01.ipynb\" target=\"_parent\"><img src=\"https://colab.research.google.com/assets/colab-badge.svg\" alt=\"Open In Colab\"/></a>"
      ]
    },
    {
      "cell_type": "code",
      "execution_count": 1,
      "metadata": {
        "colab": {
          "base_uri": "https://localhost:8080/"
        },
        "id": "8pH3HcG0JiOy",
        "outputId": "cb446f19-c57c-4f18-9c1d-adeb3ef49130"
      },
      "outputs": [
        {
          "output_type": "stream",
          "name": "stdout",
          "text": [
            "1 3 5\n",
            "13\n"
          ]
        }
      ],
      "source": [
        "a, d, n = map(int, input().split())\n",
        "print(a+(d*(n-1)))"
      ]
    }
  ]
}