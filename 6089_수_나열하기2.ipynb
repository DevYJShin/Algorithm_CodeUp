{
  "nbformat": 4,
  "nbformat_minor": 0,
  "metadata": {
    "colab": {
      "name": "6089_수 나열하기2.ipynb",
      "provenance": [],
      "authorship_tag": "ABX9TyPAWQ770JohldWwXA4m9vol",
      "include_colab_link": true
    },
    "kernelspec": {
      "name": "python3",
      "display_name": "Python 3"
    },
    "language_info": {
      "name": "python"
    }
  },
  "cells": [
    {
      "cell_type": "markdown",
      "metadata": {
        "id": "view-in-github",
        "colab_type": "text"
      },
      "source": [
        "<a href=\"https://colab.research.google.com/github/DevYJShin/Algorithm_CodeUp/blob/main/6089_%EC%88%98_%EB%82%98%EC%97%B4%ED%95%98%EA%B8%B02.ipynb\" target=\"_parent\"><img src=\"https://colab.research.google.com/assets/colab-badge.svg\" alt=\"Open In Colab\"/></a>"
      ]
    },
    {
      "cell_type": "code",
      "execution_count": 1,
      "metadata": {
        "colab": {
          "base_uri": "https://localhost:8080/"
        },
        "id": "5Q4xwlq_LpKj",
        "outputId": "782354b4-02b7-45b8-b2aa-4063dd26c663"
      },
      "outputs": [
        {
          "output_type": "stream",
          "name": "stdout",
          "text": [
            "2 3 7\n",
            "1458\n"
          ]
        }
      ],
      "source": [
        "a, d, n = map(int, input().split()) # 정수를 받는다. 1. 초기값, 2. 공비, 3. 항의 개수\n",
        "count=1                             # count 변수 선언\n",
        "\n",
        "while(count<n):                     \n",
        "  a *= d                            # 항에 공비를 곱해준다.\n",
        "  count+=1                          # 항에 공비를 곱할때마다 count가 올라간다.\n",
        "\n",
        "print(a)                            # 마지막 값을 출력해준다."
      ]
    }
  ]
}