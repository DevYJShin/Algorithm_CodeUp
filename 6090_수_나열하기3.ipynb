{
  "nbformat": 4,
  "nbformat_minor": 0,
  "metadata": {
    "colab": {
      "name": "6090_수 나열하기3.ipynb",
      "provenance": [],
      "authorship_tag": "ABX9TyOnb46dghXDosSsXW/OBxhX",
      "include_colab_link": true
    },
    "kernelspec": {
      "name": "python3",
      "display_name": "Python 3"
    },
    "language_info": {
      "name": "python"
    }
  },
  "cells": [
    {
      "cell_type": "markdown",
      "metadata": {
        "id": "view-in-github",
        "colab_type": "text"
      },
      "source": [
        "<a href=\"https://colab.research.google.com/github/DevYJShin/Algorithm_CodeUp/blob/main/6090_%EC%88%98_%EB%82%98%EC%97%B4%ED%95%98%EA%B8%B03.ipynb\" target=\"_parent\"><img src=\"https://colab.research.google.com/assets/colab-badge.svg\" alt=\"Open In Colab\"/></a>"
      ]
    },
    {
      "cell_type": "code",
      "execution_count": 1,
      "metadata": {
        "colab": {
          "base_uri": "https://localhost:8080/"
        },
        "id": "SMv0rr-1N1bR",
        "outputId": "e7562bfe-3e22-48f2-d594-63548bd9af97"
      },
      "outputs": [
        {
          "output_type": "stream",
          "name": "stdout",
          "text": [
            "1 -2 1 8\n",
            "-85\n"
          ]
        }
      ],
      "source": [
        "a, m, d, n = map(int, input().split())    # 1.시작할 값, 2.곱할 값, 3. 더할값, 4. 항 개수\n",
        "count = 1                                 # count 변수 선언\n",
        "while(count<n):\n",
        "  a=(a*m+d)                               # 연산 후 다음항으로 넘어가기\n",
        "  count+=1                                # count 올리기\n",
        "print(a)"
      ]
    }
  ]
}