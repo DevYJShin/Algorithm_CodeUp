{
  "nbformat": 4,
  "nbformat_minor": 0,
  "metadata": {
    "colab": {
      "name": "6091_함께문제푸는날.ipynb",
      "provenance": [],
      "authorship_tag": "ABX9TyPUZhpM/b0eJUcKsoc6qCq3",
      "include_colab_link": true
    },
    "kernelspec": {
      "name": "python3",
      "display_name": "Python 3"
    },
    "language_info": {
      "name": "python"
    }
  },
  "cells": [
    {
      "cell_type": "markdown",
      "metadata": {
        "id": "view-in-github",
        "colab_type": "text"
      },
      "source": [
        "<a href=\"https://colab.research.google.com/github/DevYJShin/Algorithm_CodeUp/blob/main/6091_%ED%95%A8%EA%BB%98%EB%AC%B8%EC%A0%9C%ED%91%B8%EB%8A%94%EB%82%A0.ipynb\" target=\"_parent\"><img src=\"https://colab.research.google.com/assets/colab-badge.svg\" alt=\"Open In Colab\"/></a>"
      ]
    },
    {
      "cell_type": "code",
      "execution_count": 1,
      "metadata": {
        "colab": {
          "base_uri": "https://localhost:8080/"
        },
        "id": "ax6VeghlPcnX",
        "outputId": "278d8f51-bb00-4c2f-af2f-b6105f321703"
      },
      "outputs": [
        {
          "output_type": "stream",
          "name": "stdout",
          "text": [
            "3 7 9\n",
            "63\n"
          ]
        }
      ],
      "source": [
        "h1, h2, h3 = map(int, input().split())\n",
        "day = 1\n",
        "\n",
        "while(day%h1 != 0 or day%h2 != 0 or day%h3 != 0): # 3명의 사람이 모두 해당되는 날을 찾음\n",
        "  day += 1\n",
        "print(day)"
      ]
    }
  ]
}