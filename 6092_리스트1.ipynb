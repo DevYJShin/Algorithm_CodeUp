{
  "nbformat": 4,
  "nbformat_minor": 0,
  "metadata": {
    "colab": {
      "name": "6092_리스트1.ipynb",
      "provenance": [],
      "authorship_tag": "ABX9TyNU9bdmWVnS0F0FmuUrclSN",
      "include_colab_link": true
    },
    "kernelspec": {
      "name": "python3",
      "display_name": "Python 3"
    },
    "language_info": {
      "name": "python"
    }
  },
  "cells": [
    {
      "cell_type": "markdown",
      "metadata": {
        "id": "view-in-github",
        "colab_type": "text"
      },
      "source": [
        "<a href=\"https://colab.research.google.com/github/DevYJShin/Algorithm_CodeUp/blob/main/6092_%EB%A6%AC%EC%8A%A4%ED%8A%B81.ipynb\" target=\"_parent\"><img src=\"https://colab.research.google.com/assets/colab-badge.svg\" alt=\"Open In Colab\"/></a>"
      ]
    },
    {
      "cell_type": "code",
      "execution_count": 2,
      "metadata": {
        "colab": {
          "base_uri": "https://localhost:8080/"
        },
        "id": "fSaF86XFQmpu",
        "outputId": "27e6664a-7326-47a4-c7c7-1102d2fd18da"
      },
      "outputs": [
        {
          "output_type": "stream",
          "name": "stdout",
          "text": [
            "10\n",
            "1 3 2 2 5 6 7 4 5 9\n",
            "1 2 1 1 2 1 1 0 1 0 0 0 0 0 0 0 0 0 0 0 0 0 0 "
          ]
        }
      ],
      "source": [
        "n = int(input())\n",
        "a = input().split()\n",
        "\n",
        "for i in range(n):\n",
        "  a[i] = int(a[i])\n",
        "\n",
        "d = []\n",
        "for i in range(24):\n",
        "  d.append(0)\n",
        "\n",
        "for i in range(n):\n",
        "  d[a[i]] += 1\n",
        "\n",
        "for i in range(1, 24):\n",
        "  print(d[i], end = ' ')"
      ]
    }
  ]
}