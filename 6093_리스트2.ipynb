{
  "nbformat": 4,
  "nbformat_minor": 0,
  "metadata": {
    "colab": {
      "name": "6093_리스트2.ipynb",
      "provenance": [],
      "authorship_tag": "ABX9TyPixNXe9i/aKA5xvZNRGp3y",
      "include_colab_link": true
    },
    "kernelspec": {
      "name": "python3",
      "display_name": "Python 3"
    },
    "language_info": {
      "name": "python"
    }
  },
  "cells": [
    {
      "cell_type": "markdown",
      "metadata": {
        "id": "view-in-github",
        "colab_type": "text"
      },
      "source": [
        "<a href=\"https://colab.research.google.com/github/DevYJShin/Algorithm_CodeUp/blob/main/6093_%EB%A6%AC%EC%8A%A4%ED%8A%B82.ipynb\" target=\"_parent\"><img src=\"https://colab.research.google.com/assets/colab-badge.svg\" alt=\"Open In Colab\"/></a>"
      ]
    },
    {
      "cell_type": "code",
      "execution_count": 1,
      "metadata": {
        "colab": {
          "base_uri": "https://localhost:8080/"
        },
        "id": "WuoszPgmZXMo",
        "outputId": "535255f3-c858-4f2b-8401-fde5f1c5a997"
      },
      "outputs": [
        {
          "output_type": "stream",
          "name": "stdout",
          "text": [
            "10\n",
            "10 4 2 3 6 6 7 9 8 5\n",
            "5 8 9 7 6 6 3 2 4 10 "
          ]
        }
      ],
      "source": [
        "n = int(input())\n",
        "a = input().split()\n",
        "\n",
        "for i in range(n):\n",
        "  a[i] = int(a[i])\n",
        "\n",
        "for i in range(n-1, -1, -1):\n",
        "  print(a[i], end = ' ')"
      ]
    }
  ]
}