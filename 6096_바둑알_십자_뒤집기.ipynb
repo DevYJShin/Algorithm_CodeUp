{
  "nbformat": 4,
  "nbformat_minor": 0,
  "metadata": {
    "colab": {
      "name": "6096_바둑알 십자 뒤집기.ipynb",
      "provenance": [],
      "authorship_tag": "ABX9TyNgoc2LBz/Etx/OIQp9q4w8",
      "include_colab_link": true
    },
    "kernelspec": {
      "name": "python3",
      "display_name": "Python 3"
    },
    "language_info": {
      "name": "python"
    }
  },
  "cells": [
    {
      "cell_type": "markdown",
      "metadata": {
        "id": "view-in-github",
        "colab_type": "text"
      },
      "source": [
        "<a href=\"https://colab.research.google.com/github/DevYJShin/Algorithm_CodeUp/blob/main/6096_%EB%B0%94%EB%91%91%EC%95%8C_%EC%8B%AD%EC%9E%90_%EB%92%A4%EC%A7%91%EA%B8%B0.ipynb\" target=\"_parent\"><img src=\"https://colab.research.google.com/assets/colab-badge.svg\" alt=\"Open In Colab\"/></a>"
      ]
    },
    {
      "cell_type": "code",
      "execution_count": 7,
      "metadata": {
        "colab": {
          "base_uri": "https://localhost:8080/"
        },
        "id": "3kVd2d9AsxNC",
        "outputId": "cda61cab-3b6d-45bf-86f4-03cc84758a38"
      },
      "outputs": [
        {
          "output_type": "stream",
          "name": "stdout",
          "text": [
            "0 0 0 0 0 0 0 0 0 1 0 1 0 0 0 0 0 0 0\n",
            "0 0 0 0 0 0 0 0 0 1 0 1 0 0 0 0 0 0 0\n",
            "0 0 0 0 0 0 0 0 0 1 0 1 0 0 0 0 0 0 0\n",
            "0 0 0 0 0 0 0 0 0 1 0 1 0 0 0 0 0 0 0\n",
            "0 0 0 0 0 0 0 0 0 1 0 1 0 0 0 0 0 0 0\n",
            "0 0 0 0 0 0 0 0 0 1 0 1 0 0 0 0 0 0 0\n",
            "0 0 0 0 0 0 0 0 0 1 0 1 0 0 0 0 0 0 0\n",
            "0 0 0 0 0 0 0 0 0 1 0 1 0 0 0 0 0 0 0\n",
            "0 0 0 0 0 0 0 0 0 1 0 1 0 0 0 0 0 0 0\n",
            "1 1 1 1 1 1 1 1 1 1 1 1 1 1 1 1 1 1 1\n",
            "0 0 0 0 0 0 0 0 0 1 0 1 0 0 0 0 0 0 0\n",
            "1 1 1 1 1 1 1 1 1 1 1 1 1 1 1 1 1 1 1\n",
            "0 0 0 0 0 0 0 0 0 1 0 1 0 0 0 0 0 0 0\n",
            "0 0 0 0 0 0 0 0 0 1 0 1 0 0 0 0 0 0 0\n",
            "0 0 0 0 0 0 0 0 0 1 0 1 0 0 0 0 0 0 0\n",
            "0 0 0 0 0 0 0 0 0 1 0 1 0 0 0 0 0 0 0\n",
            "0 0 0 0 0 0 0 0 0 1 0 1 0 0 0 0 0 0 0\n",
            "0 0 0 0 0 0 0 0 0 1 0 1 0 0 0 0 0 0 0\n",
            "0 0 0 0 0 0 0 0 0 1 0 1 0 0 0 0 0 0 0\n",
            "2\n",
            "10 10\n",
            "12 12\n",
            "0 0 0 0 0 0 0 0 0 0 0 0 0 0 0 0 0 0 0 \n",
            "0 0 0 0 0 0 0 0 0 0 0 0 0 0 0 0 0 0 0 \n",
            "0 0 0 0 0 0 0 0 0 0 0 0 0 0 0 0 0 0 0 \n",
            "0 0 0 0 0 0 0 0 0 0 0 0 0 0 0 0 0 0 0 \n",
            "0 0 0 0 0 0 0 0 0 0 0 0 0 0 0 0 0 0 0 \n",
            "0 0 0 0 0 0 0 0 0 0 0 0 0 0 0 0 0 0 0 \n",
            "0 0 0 0 0 0 0 0 0 0 0 0 0 0 0 0 0 0 0 \n",
            "0 0 0 0 0 0 0 0 0 0 0 0 0 0 0 0 0 0 0 \n",
            "0 0 0 0 0 0 0 0 0 0 0 0 0 0 0 0 0 0 0 \n",
            "0 0 0 0 0 0 0 0 0 1 0 1 0 0 0 0 0 0 0 \n",
            "0 0 0 0 0 0 0 0 0 0 0 0 0 0 0 0 0 0 0 \n",
            "0 0 0 0 0 0 0 0 0 1 0 1 0 0 0 0 0 0 0 \n",
            "0 0 0 0 0 0 0 0 0 0 0 0 0 0 0 0 0 0 0 \n",
            "0 0 0 0 0 0 0 0 0 0 0 0 0 0 0 0 0 0 0 \n",
            "0 0 0 0 0 0 0 0 0 0 0 0 0 0 0 0 0 0 0 \n",
            "0 0 0 0 0 0 0 0 0 0 0 0 0 0 0 0 0 0 0 \n",
            "0 0 0 0 0 0 0 0 0 0 0 0 0 0 0 0 0 0 0 \n",
            "0 0 0 0 0 0 0 0 0 0 0 0 0 0 0 0 0 0 0 \n",
            "0 0 0 0 0 0 0 0 0 0 0 0 0 0 0 0 0 0 0 \n"
          ]
        }
      ],
      "source": [
        "d = [list(map(int, input().split())) for _ in range(1, 20)] \n",
        "n = int(input())                                              \n",
        "\n",
        "for i in range(n):\n",
        "  x, y = map(int, input().split())\n",
        "  for j in range(19):\n",
        "    if(d[x-1][j] == 0):\n",
        "      d[x-1][j] = 1\n",
        "    else:\n",
        "      d[x-1][j] = 0\n",
        "  for j in range(19):\n",
        "    if(d[j][y-1] == 0):\n",
        "      d[j][y-1] = 1\n",
        "    else:\n",
        "      d[j][y-1] = 0\n",
        "  \n",
        "for k in range(19):\n",
        "  for l in range(19):\n",
        "    print(d[k][l], end = ' ')\n",
        "  print()"
      ]
    }
  ]
}