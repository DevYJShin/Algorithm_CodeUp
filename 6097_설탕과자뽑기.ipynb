{
  "nbformat": 4,
  "nbformat_minor": 0,
  "metadata": {
    "colab": {
      "name": "6097_설탕과자뽑기.ipynb",
      "provenance": [],
      "authorship_tag": "ABX9TyOON4VFcUzJa3lFJDZxj+1E",
      "include_colab_link": true
    },
    "kernelspec": {
      "name": "python3",
      "display_name": "Python 3"
    },
    "language_info": {
      "name": "python"
    }
  },
  "cells": [
    {
      "cell_type": "markdown",
      "metadata": {
        "id": "view-in-github",
        "colab_type": "text"
      },
      "source": [
        "<a href=\"https://colab.research.google.com/github/DevYJShin/Algorithm_CodeUp/blob/main/6097_%EC%84%A4%ED%83%95%EA%B3%BC%EC%9E%90%EB%BD%91%EA%B8%B0.ipynb\" target=\"_parent\"><img src=\"https://colab.research.google.com/assets/colab-badge.svg\" alt=\"Open In Colab\"/></a>"
      ]
    },
    {
      "cell_type": "code",
      "execution_count": 3,
      "metadata": {
        "colab": {
          "base_uri": "https://localhost:8080/"
        },
        "id": "vetVC44RxHqY",
        "outputId": "869a2d0b-13b4-418b-812d-7eae7491eb44"
      },
      "outputs": [
        {
          "output_type": "stream",
          "name": "stdout",
          "text": [
            "5 5\n",
            "3\n",
            "2 0 1 1\n",
            "3 1 2 3\n",
            "4 1 2 5\n",
            "1 1 0 0 0 \n",
            "0 0 1 0 1 \n",
            "0 0 1 0 1 \n",
            "0 0 1 0 1 \n",
            "0 0 0 0 1 \n"
          ]
        }
      ],
      "source": [
        "h,w = map(int,input().split())\n",
        "n = int(input())\n",
        "\n",
        "board=[[0]*w for _ in range(h)]\n",
        "\n",
        "for i in range(n):\n",
        "    l,d,x,y = map(int,input().split())\n",
        "    if(d==0):\n",
        "        for j in range(l):\n",
        "            board[x-1][y-1+j]=1\n",
        "    else:\n",
        "        for j in range(l):\n",
        "            board[x-1+j][y-1]=1\n",
        "            \n",
        "\n",
        "for i in range(h):\n",
        "    for j in range(w):\n",
        "        print(board[i][j],end=' ')\n",
        "    print()"
      ]
    }
  ]
}