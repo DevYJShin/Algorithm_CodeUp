{
  "nbformat": 4,
  "nbformat_minor": 0,
  "metadata": {
    "colab": {
      "name": "6098_성실한개미.ipynb",
      "provenance": [],
      "authorship_tag": "ABX9TyMH6iCm0C2RF2LWnWbsZ9oO",
      "include_colab_link": true
    },
    "kernelspec": {
      "name": "python3",
      "display_name": "Python 3"
    },
    "language_info": {
      "name": "python"
    }
  },
  "cells": [
    {
      "cell_type": "markdown",
      "metadata": {
        "id": "view-in-github",
        "colab_type": "text"
      },
      "source": [
        "<a href=\"https://colab.research.google.com/github/DevYJShin/Algorithm_CodeUp/blob/main/6098_%EC%84%B1%EC%8B%A4%ED%95%9C%EA%B0%9C%EB%AF%B8.ipynb\" target=\"_parent\"><img src=\"https://colab.research.google.com/assets/colab-badge.svg\" alt=\"Open In Colab\"/></a>"
      ]
    },
    {
      "cell_type": "code",
      "execution_count": 1,
      "metadata": {
        "colab": {
          "base_uri": "https://localhost:8080/"
        },
        "id": "ZrbsUdHty_qq",
        "outputId": "21cea6be-cc22-45ac-c840-45ffa8ed443e"
      },
      "outputs": [
        {
          "output_type": "stream",
          "name": "stdout",
          "text": [
            "1 1 1 1 1 1 1 1 1 1\n",
            "1 0 0 1 0 0 0 0 0 1\n",
            "1 0 0 1 1 1 0 0 0 1\n",
            "1 0 0 0 0 0 0 1 0 1\n",
            "1 0 0 0 0 0 0 1 0 1\n",
            "1 0 0 0 0 1 0 1 0 1\n",
            "1 0 0 0 0 1 2 1 0 1\n",
            "1 0 0 0 0 1 0 0 0 1\n",
            "1 0 0 0 0 0 0 0 0 1\n",
            "1 1 1 1 1 1 1 1 1 1\n",
            "1 1 1 1 1 1 1 1 1 1 \n",
            "1 9 9 1 0 0 0 0 0 1 \n",
            "1 0 9 1 1 1 0 0 0 1 \n",
            "1 0 9 9 9 9 9 1 0 1 \n",
            "1 0 0 0 0 0 9 1 0 1 \n",
            "1 0 0 0 0 1 9 1 0 1 \n",
            "1 0 0 0 0 1 9 1 0 1 \n",
            "1 0 0 0 0 1 0 0 0 1 \n",
            "1 0 0 0 0 0 0 0 0 1 \n",
            "1 1 1 1 1 1 1 1 1 1 \n"
          ]
        }
      ],
      "source": [
        "board=[[]*10 for _ in range(10)]\n",
        "for i in range(10):\n",
        "    board[i]=list(map(int,input().split()))\n",
        "x=1\n",
        "y=1\n",
        "board[x][y]=9\n",
        "\n",
        "while True:\n",
        "    if(board[x][y]==2):\n",
        "        board[x][y]=9\n",
        "        break\n",
        "    if(board[x][y+1]!=1):\n",
        "        board[x][y]=9\n",
        "        y+=1\n",
        "    else:\n",
        "        if(board[x+1][y]!=1):\n",
        "            board[x][y]=9\n",
        "            x+=1\n",
        "        else:\n",
        "          board[x][y]=9\n",
        "          break\n",
        "\n",
        "for i in range(10):\n",
        "    for j in range(10):\n",
        "        print(board[i][j],end=' ')\n",
        "    print()\n",
        "        "
      ]
    }
  ]
}